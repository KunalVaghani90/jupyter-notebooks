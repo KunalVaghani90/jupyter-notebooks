{
 "cells": [
  {
   "cell_type": "markdown",
   "metadata": {
    "pycharm": {
     "name": "#%% md\n"
    }
   },
   "source": [
    "## Add Logic\n",
    "\n",
    "To add logic to the Flow, use the `uses` parameter to attach a Pod with an [Executor](https://github.com/jina-ai/jina/tree/master/docs/chapters/101#executors). `uses` accepts multiple value types including class name, Docker image, (inline) YAML or built-in shortcut.\n",
    "\n",
    "Let's first build a dummy encoder"
   ]
  },
  {
   "cell_type": "code",
   "execution_count": null,
   "metadata": {},
   "outputs": [],
   "source": [
    "#Run this command to install Jina in this notebook \n",
    "!pip install jina"
   ]
  },
  {
   "cell_type": "code",
   "execution_count": null,
   "metadata": {
    "collapsed": false,
    "jupyter": {
     "outputs_hidden": false
    },
    "pycharm": {
     "name": "#%%\n"
    }
   },
   "outputs": [],
   "source": [
    "from jina import Executor\n",
    "import numpy as np\n",
    "\n",
    "\n",
    "class DummyEncoder(Executor):\n",
    "    \n",
    "    def __init__(self, param=10, *args, **kwargs):\n",
    "        super().__init__(*args, **kwargs)\n",
    "        self.param = param\n",
    "        \n",
    "    def encode(self, data, *args, **kwargs):\n",
    "        return np.random.random([2, self.param])"
   ]
  },
  {
   "cell_type": "markdown",
   "metadata": {
    "pycharm": {
     "name": "#%% md\n"
    }
   },
   "source": [
    "To use `DummyEncoder` in the Flow, you can use the class name, a YAML file/literal, or a Python `dict`:"
   ]
  },
  {
   "cell_type": "code",
   "execution_count": null,
   "metadata": {
    "collapsed": false,
    "jupyter": {
     "outputs_hidden": false
    },
    "pycharm": {
     "name": "#%%\n"
    }
   },
   "outputs": [],
   "source": [
    "from jina import Flow\n",
    "f = (Flow().add(uses='DummyEncoder')\n",
    "       .add(uses={'jtype': 'DummyEncoder', 'with': {'param': 12}})  # dict config object with __cls keyword\n",
    "       .add(uses='myencoder.yml')  # YAML serialization of a Jina Executor\n",
    "       .add(uses='''\n",
    "                jtype: DummyEncoder\n",
    "                with:\n",
    "                    param: 20'''))  # inline YAML config\n",
    "       "
   ]
  },
  {
   "cell_type": "markdown",
   "metadata": {
    "pycharm": {
     "name": "#%% md\n"
    }
   },
   "source": [
    "The power of Jina lies in its decentralized architecture: each `add` creates a new Pod, and these Pods can be run as a local thread/process, a remote process, inside a Docker container, or even inside a remote Docker container.\n",
    "\n",
    "You can also use Docker image with `docker://` as prefix:"
   ]
  },
  {
   "cell_type": "code",
   "execution_count": null,
   "metadata": {
    "collapsed": false,
    "jupyter": {
     "outputs_hidden": false
    },
    "pycharm": {
     "name": "#%%\n"
    }
   },
   "outputs": [],
   "source": [
    "f.add(uses='docker://jinahub/pretrained-cnn:latest')\n"
   ]
  }
 ],
 "metadata": {
  "kernelspec": {
   "display_name": "Python 3",
   "language": "python",
   "name": "python3"
  },
  "language_info": {
   "codemirror_mode": {
    "name": "ipython",
    "version": 3
   },
   "file_extension": ".py",
   "mimetype": "text/x-python",
   "name": "python",
   "nbconvert_exporter": "python",
   "pygments_lexer": "ipython3",
   "version": "3.8.5"
  }
 },
 "nbformat": 4,
 "nbformat_minor": 4
}