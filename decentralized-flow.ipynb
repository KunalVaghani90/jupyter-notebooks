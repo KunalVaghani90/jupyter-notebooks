{
 "cells": [
  {
   "cell_type": "markdown",
   "source": [
    "## Decentralized Flow\n",
    "\n",
    "A Flow does not have to be local-only, one can put any Pod to remote(s). In the example below, with the `host` keyword `gpu-pod` is put to a remote machine for parallelization, whereas other pods stay local. Extra file dependencies that need to be uploaded are specified via the `upload_files` keyword.\n"
   ],
   "metadata": {
    "collapsed": false,
    "pycharm": {
     "name": "#%% md\n"
    }
   }
  },
  {
   "cell_type": "code",
   "execution_count": null,
   "outputs": [],
   "source": [
    "import numpy as np\n",
    "from jina import Flow\n",
    "\n",
    "f = (Flow()\n",
    "     .add()\n",
    "     .add(name='gpu_pod',\n",
    "          uses='mwu_encoder.yml',\n",
    "          host='cloud.jina.ai:8000',\n",
    "          parallel=2,\n",
    "          upload_files=['mwu_encoder.py'])\n",
    "     .add())\n",
    "\n",
    "with f:\n",
    "    f.index_ndarray(np.random.random([10, 100]), output=print)"
   ],
   "metadata": {
    "collapsed": false,
    "pycharm": {
     "name": "#%% \n"
    }
   }
  },
  {
   "cell_type": "markdown",
   "source": [
    "We provide a demo server on `cloud.jina.ai:8000`, equipped with `daemon`. On your own server, you can simply run `docker run --network=host jinaai/jina:latest-daemon --port-expose 8000`.\n",
    "\n"
   ],
   "metadata": {
    "collapsed": false
   }
  }
 ],
 "metadata": {
  "kernelspec": {
   "display_name": "Python 3",
   "language": "python",
   "name": "python3"
  },
  "language_info": {
   "codemirror_mode": {
    "name": "ipython",
    "version": 3
   },
   "file_extension": ".py",
   "mimetype": "text/x-python",
   "name": "python",
   "nbconvert_exporter": "python",
   "pygments_lexer": "ipython3",
   "version": "3.7.5"
  }
 },
 "nbformat": 4,
 "nbformat_minor": 4
}