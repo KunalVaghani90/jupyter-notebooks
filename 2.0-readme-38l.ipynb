{
 "cells": [
  {
   "cell_type": "markdown",
   "metadata": {},
   "source": [
    "To try this example, Go to Runtime -> Run all"
   ]
  },
  {
   "cell_type": "code",
   "execution_count": null,
   "metadata": {
    "pycharm": {
     "name": "#%%\n"
    }
   },
   "outputs": [],
   "source": []
  },
  {
   "cell_type": "markdown",
   "metadata": {},
   "source": [
    "Report problems with this example on [GitHub Issues](https://github.com/jina-ai/jina/issues/new/choose)"
   ]
  },
  {
   "cell_type": "code",
   "execution_count": null,
   "metadata": {
    "pycharm": {
     "name": "#%%\n"
    }
   },
   "outputs": [],
   "source": []
  },
  {
   "cell_type": "markdown",
   "metadata": {
    "pycharm": {
     "name": "#%% md\n"
    }
   },
   "source": [
    "Make sure to run this command to install Jina 2.0 for this notebook"
   ]
  },
  {
   "cell_type": "code",
   "execution_count": 7,
   "metadata": {
    "pycharm": {
     "name": "#%%\n"
    }
   },
   "outputs": [
    {
     "name": "stdout",
     "output_type": "stream",
     "text": [
      "Defaulting to user installation because normal site-packages is not writeable\n",
      "Requirement already satisfied: jina in /Users/kel/Library/Python/3.7/lib/python/site-packages (1.0.15)\n",
      "Requirement already satisfied: uvloop in /Users/kel/Library/Python/3.7/lib/python/site-packages (from jina) (0.15.2)\n",
      "Requirement already satisfied: protobuf>=3.13.0 in /Users/kel/Library/Python/3.7/lib/python/site-packages (from jina) (3.13.0)\n",
      "Requirement already satisfied: pyzmq>=17.1.0 in /Users/kel/Library/Python/3.7/lib/python/site-packages (from jina) (22.0.3)\n",
      "Requirement already satisfied: tornado>=5.1.0 in /Users/kel/Library/Python/3.7/lib/python/site-packages (from jina) (6.1)\n",
      "Requirement already satisfied: lz4<3.1.2 in /Users/kel/Library/Python/3.7/lib/python/site-packages (from jina) (3.1.1)\n",
      "Requirement already satisfied: pyyaml>=5.3.1 in /Users/kel/Library/Python/3.7/lib/python/site-packages (from jina) (5.3.1)\n",
      "Requirement already satisfied: grpcio>=1.33.1 in /Users/kel/Library/Python/3.7/lib/python/site-packages (from jina) (1.33.2)\n",
      "Requirement already satisfied: numpy in /Users/kel/Library/Python/3.7/lib/python/site-packages (from jina) (1.19.1)\n",
      "Requirement already satisfied: six>=1.9 in /Users/kel/Library/Python/3.7/lib/python/site-packages (from protobuf>=3.13.0->jina) (1.15.0)\n",
      "Requirement already satisfied: setuptools in /Library/Python/3.7/site-packages (from protobuf>=3.13.0->jina) (50.3.2)\n",
      "\u001b[33mWARNING: You are using pip version 20.2.4; however, version 21.1.3 is available.\n",
      "You should consider upgrading via the '/Library/Developer/CommandLineTools/usr/bin/python3 -m pip install --upgrade pip' command.\u001b[0m\n",
      "Defaulting to user installation because normal site-packages is not writeable\n",
      "Collecting ipynbname\n",
      "  Downloading ipynbname-2021.3.2-py3-none-any.whl (4.0 kB)\n",
      "Collecting ipykernel\n",
      "  Using cached ipykernel-6.0.1-py3-none-any.whl (122 kB)\n",
      "Collecting ipython>=7.23.1\n",
      "  Using cached ipython-7.25.0-py3-none-any.whl (786 kB)\n",
      "Requirement already satisfied: importlib-metadata<4; python_version < \"3.8.0\" in /Users/kel/Library/Python/3.7/lib/python/site-packages (from ipykernel->ipynbname) (1.7.0)\n",
      "Collecting debugpy>=1.0.0\n",
      "  Downloading debugpy-1.3.0-cp37-cp37m-macosx_10_14_x86_64.whl (4.4 MB)\n",
      "\u001b[K     |████████████████████████████████| 4.4 MB 2.0 MB/s eta 0:00:01\n",
      "\u001b[?25hCollecting matplotlib-inline<0.2.0appnope,>=0.1.0; platform_system == \"Darwin\"\n",
      "  Using cached matplotlib_inline-0.1.2-py3-none-any.whl (8.2 kB)\n",
      "Collecting jupyter-client\n",
      "  Using cached jupyter_client-6.1.12-py3-none-any.whl (112 kB)\n",
      "Requirement already satisfied: tornado>=4.2 in /Users/kel/Library/Python/3.7/lib/python/site-packages (from ipykernel->ipynbname) (6.1)\n",
      "Requirement already satisfied: traitlets>=4.1.0 in /Users/kel/Library/Python/3.7/lib/python/site-packages (from ipykernel->ipynbname) (5.0.5)\n",
      "Requirement already satisfied: prompt-toolkit!=3.0.0,!=3.0.1,<3.1.0,>=2.0.0 in /Users/kel/Library/Python/3.7/lib/python/site-packages (from ipython>=7.23.1->ipykernel->ipynbname) (3.0.17)\n",
      "Requirement already satisfied: backcall in /Users/kel/Library/Python/3.7/lib/python/site-packages (from ipython>=7.23.1->ipykernel->ipynbname) (0.2.0)\n",
      "Requirement already satisfied: jedi>=0.16 in /Library/Python/3.7/site-packages (from ipython>=7.23.1->ipykernel->ipynbname) (0.17.2)\n",
      "Requirement already satisfied: appnope; sys_platform == \"darwin\" in /Users/kel/Library/Python/3.7/lib/python/site-packages (from ipython>=7.23.1->ipykernel->ipynbname) (0.1.2)\n",
      "Requirement already satisfied: pexpect>4.3; sys_platform != \"win32\" in /Users/kel/Library/Python/3.7/lib/python/site-packages (from ipython>=7.23.1->ipykernel->ipynbname) (4.8.0)\n",
      "Requirement already satisfied: pickleshare in /Users/kel/Library/Python/3.7/lib/python/site-packages (from ipython>=7.23.1->ipykernel->ipynbname) (0.7.5)\n",
      "Requirement already satisfied: decorator in /Library/Python/3.7/site-packages (from ipython>=7.23.1->ipykernel->ipynbname) (4.4.2)\n",
      "Requirement already satisfied: pygments in /Users/kel/Library/Python/3.7/lib/python/site-packages (from ipython>=7.23.1->ipykernel->ipynbname) (2.8.1)\n",
      "Requirement already satisfied: setuptools>=18.5 in /Library/Python/3.7/site-packages (from ipython>=7.23.1->ipykernel->ipynbname) (50.3.2)\n",
      "Requirement already satisfied: zipp>=0.5 in /Users/kel/Library/Python/3.7/lib/python/site-packages (from importlib-metadata<4; python_version < \"3.8.0\"->ipykernel->ipynbname) (3.1.0)\n",
      "Requirement already satisfied: python-dateutil>=2.1 in /Users/kel/Library/Python/3.7/lib/python/site-packages (from jupyter-client->ipykernel->ipynbname) (2.8.1)\n",
      "Requirement already satisfied: pyzmq>=13 in /Users/kel/Library/Python/3.7/lib/python/site-packages (from jupyter-client->ipykernel->ipynbname) (22.0.3)\n",
      "Collecting jupyter-core>=4.6.0\n",
      "  Using cached jupyter_core-4.7.1-py3-none-any.whl (82 kB)\n",
      "Requirement already satisfied: ipython-genutils in /Users/kel/Library/Python/3.7/lib/python/site-packages (from traitlets>=4.1.0->ipykernel->ipynbname) (0.2.0)\n",
      "Requirement already satisfied: wcwidth in /Users/kel/Library/Python/3.7/lib/python/site-packages (from prompt-toolkit!=3.0.0,!=3.0.1,<3.1.0,>=2.0.0->ipython>=7.23.1->ipykernel->ipynbname) (0.2.5)\n",
      "Requirement already satisfied: parso<0.8.0,>=0.7.0 in /Library/Python/3.7/site-packages (from jedi>=0.16->ipython>=7.23.1->ipykernel->ipynbname) (0.7.1)\n",
      "Requirement already satisfied: ptyprocess>=0.5 in /Users/kel/Library/Python/3.7/lib/python/site-packages (from pexpect>4.3; sys_platform != \"win32\"->ipython>=7.23.1->ipykernel->ipynbname) (0.7.0)\n",
      "Requirement already satisfied: six>=1.5 in /Users/kel/Library/Python/3.7/lib/python/site-packages (from python-dateutil>=2.1->jupyter-client->ipykernel->ipynbname) (1.15.0)\n",
      "Installing collected packages: matplotlib-inline, ipython, debugpy, jupyter-core, jupyter-client, ipykernel, ipynbname\n",
      "  Attempting uninstall: ipython\n",
      "    Found existing installation: ipython 7.21.0\n",
      "    Uninstalling ipython-7.21.0:\n",
      "      Successfully uninstalled ipython-7.21.0\n",
      "\u001b[33m  WARNING: The scripts iptest, iptest3, ipython and ipython3 are installed in '/Users/kel/Library/Python/3.7/bin' which is not on PATH.\n",
      "  Consider adding this directory to PATH or, if you prefer to suppress this warning, use --no-warn-script-location.\u001b[0m\n",
      "\u001b[33m  WARNING: The scripts jupyter, jupyter-migrate and jupyter-troubleshoot are installed in '/Users/kel/Library/Python/3.7/bin' which is not on PATH.\n",
      "  Consider adding this directory to PATH or, if you prefer to suppress this warning, use --no-warn-script-location.\u001b[0m\n",
      "\u001b[33m  WARNING: The scripts jupyter-kernel, jupyter-kernelspec and jupyter-run are installed in '/Users/kel/Library/Python/3.7/bin' which is not on PATH.\n",
      "  Consider adding this directory to PATH or, if you prefer to suppress this warning, use --no-warn-script-location.\u001b[0m\n",
      "Successfully installed debugpy-1.3.0 ipykernel-6.0.1 ipynbname-2021.3.2 ipython-7.25.0 jupyter-client-6.1.12 jupyter-core-4.7.1 matplotlib-inline-0.1.2\n",
      "\u001b[33mWARNING: You are using pip version 20.2.4; however, version 21.1.3 is available.\n",
      "You should consider upgrading via the '/Library/Developer/CommandLineTools/usr/bin/python3 -m pip install --upgrade pip' command.\u001b[0m\n"
     ]
    }
   ],
   "source": [
    "!pip install --pre jina"
   ]
  },
  {
   "cell_type": "markdown",
   "metadata": {
    "collapsed": true,
    "pycharm": {
     "name": "#%% md\n"
    }
   },
   "source": [
    "## Minimum Working Example for Jina 2.0\n",
    "\n",
    "This notebook explains the code behind the [38-Line Get Started](https://github.com/jina-ai/jina#get-started).\n",
    "\n",
    "The demo indices every line of its *own source code*, then searches for the most similar line to `\"request(on=something)\"`. No other library required, no external dataset required. The dataset is the codebase.\n",
    "\n",
    "### Import"
   ]
  },
  {
   "cell_type": "markdown",
   "metadata": {
    "pycharm": {
     "name": "#%% md\n"
    }
   },
   "source": [
    "For this demo, we only need to import `numpy` and `jina`:"
   ]
  },
  {
   "cell_type": "code",
   "execution_count": 9,
   "metadata": {
    "pycharm": {
     "name": "#%%\n"
    }
   },
   "outputs": [],
   "source": [
    "import os\n",
    "import numpy as np\n",
    "from jina import Document, DocumentArray, Executor, Flow, requests"
   ]
  },
  {
   "cell_type": "markdown",
   "metadata": {
    "pycharm": {
     "name": "#%% md\n"
    }
   },
   "source": [
    "### Character embedding\n",
    "\n",
    "For embedding every line of the code, we want to represent it into a vector using simple character embedding and mean-pooling.\n",
    "\n",
    "The character embedding is a simple identity matrix.\n",
    "\n",
    "To do that we need to write a new `Executor`:"
   ]
  },
  {
   "cell_type": "code",
   "execution_count": 10,
   "metadata": {
    "pycharm": {
     "name": "#%%\n"
    }
   },
   "outputs": [],
   "source": [
    "class CharEmbed(Executor):  # a simple character embedding with mean-pooling\n",
    "    offset = 32  # letter `a`\n",
    "    dim = 127 - offset + 1  # last pos reserved for `UNK`\n",
    "    char_embd = np.eye(dim) * 1  # one-hot embedding for all chars\n",
    "\n",
    "    @requests\n",
    "    def foo(self, docs: DocumentArray, **kwargs):\n",
    "        for d in docs:\n",
    "            r_emb = [ord(c) - self.offset if self.offset <= ord(c) <= 127 else (self.dim - 1) for c in d.text]\n",
    "            d.embedding = self.char_embd[r_emb, :].mean(axis=0)  # mean-pooling"
   ]
  },
  {
   "cell_type": "markdown",
   "metadata": {},
   "source": [
    "### Indexing\n",
    "\n",
    "To store & retrieve encoded results, we need an indexer. At index time, it stores `DocumentArray` into memory. At query time, it computes the Euclidean distance between the embeddings of query Documents and all embeddings of the stored Documents.\n",
    "\n",
    "The indexing and searching are represented by `@request('/index')` and `@request('/search')`, respectively."
   ]
  },
  {
   "cell_type": "code",
   "execution_count": 11,
   "metadata": {
    "pycharm": {
     "name": "#%%\n"
    }
   },
   "outputs": [],
   "source": [
    "class Indexer(Executor):\n",
    "    _docs = DocumentArray()  # for storing all document in memory\n",
    "\n",
    "    @requests(on='/index')\n",
    "    def foo(self, docs: DocumentArray, **kwargs):\n",
    "        self._docs.extend(docs)  # extend stored `docs`\n",
    "\n",
    "    @requests(on='/search')\n",
    "    def bar(self, docs: DocumentArray, **kwargs):\n",
    "        q = np.stack(docs.get_attributes('embedding'))  # get all embedding from query docs\n",
    "        d = np.stack(self._docs.get_attributes('embedding'))  # get all embedding from stored docs\n",
    "        euclidean_dist = np.linalg.norm(q[:, None, :] - d[None, :, :], axis=-1)  # pairwise euclidean distance\n",
    "        for dist, query in zip(euclidean_dist, docs):  # add & sort match\n",
    "            query.matches = [Document(self._docs[int(idx)], copy=True, score=d) for idx, d in enumerate(dist)]\n",
    "            query.matches.sort(key=lambda m: m.score.value)  # sort matches by its value"
   ]
  },
  {
   "cell_type": "markdown",
   "metadata": {
    "pycharm": {
     "name": "#%% md\n"
    }
   },
   "source": [
    "### Callback function\n",
    "\n",
    "Callback function is invoked when the search is done."
   ]
  },
  {
   "cell_type": "code",
   "execution_count": 12,
   "metadata": {
    "pycharm": {
     "name": "#%%\n"
    }
   },
   "outputs": [],
   "source": [
    "def print_matches(req):  # the callback function invoked when task is done\n",
    "    for idx, d in enumerate(req.docs[0].matches[:3]):  # print top-3 matches\n",
    "        print(f'[{idx}]{d.score.value:2f}: \"{d.text}\"')"
   ]
  },
  {
   "cell_type": "markdown",
   "metadata": {},
   "source": [
    "### Flow"
   ]
  },
  {
   "cell_type": "code",
   "execution_count": null,
   "metadata": {
    "pycharm": {
     "name": "#%%\n"
    }
   },
   "outputs": [
    {
     "name": "stdout",
     "output_type": "stream",
     "text": [
      "\u001b[32m      pod0/head@5104[L]:ready and listening\u001b[0m\n",
      "\u001b[32m     pod0/pea-0@5104[L]:ready and listening\u001b[0m\n",
      "\u001b[32m     pod0/pea-1@5104[L]:ready and listening\u001b[0m\n",
      "\u001b[32m      pod0/tail@5104[L]:ready and listening\u001b[0m\n",
      "\u001b[32m           pod1@5104[L]:ready and listening\u001b[0m\n",
      "\u001b[32m        gateway@5104[L]:ready and listening\u001b[0m\n",
      "           Flow@5104[I]:🎉 Flow is ready to use!\n",
      "\t🔗 Protocol: \t\t\u001b[1mGRPC\u001b[0m\n",
      "\t🏠 Local access:\t\u001b[4m\u001b[36m0.0.0.0:12345\u001b[0m\n",
      "\t🔒 Private network:\t\u001b[4m\u001b[36m127.0.0.1:12345\u001b[0m\u001b[0m\n"
     ]
    }
   ],
   "source": [
    "f = Flow(port_expose=12345).add(uses=CharEmbed, parallel=2).add(uses=Indexer)  # build a Flow, with 2 parallel CharEmbed, tho unnecessary\n",
    "with f:\n",
    "    f.post('/index', (Document(text=t.strip()) for t in open(os.__file__) if t.strip()))  # index all lines of this file\n",
    "    f.block()  # block for listening request"
   ]
  },
  {
   "cell_type": "markdown",
   "metadata": {
    "pycharm": {
     "name": "#%% md\n"
    }
   },
   "source": [
    "Keep the above running and start a simple client:"
   ]
  },
  {
   "cell_type": "code",
   "execution_count": null,
   "metadata": {
    "pycharm": {
     "name": "#%%\n"
    }
   },
   "outputs": [],
   "source": [
    "from jina import Client, Document\n",
    "from jina.types.request import Response\n",
    "\n",
    "\n",
    "def print_matches(resp: Response):  # the callback function invoked when task is done\n",
    "    for idx, d in enumerate(resp.docs[0].matches[:3]):  # print top-3 matches\n",
    "        print(f'[{idx}]{d.scores[\"euclid\"].value:2f}: \"{d.text}\"')\n",
    "\n",
    "\n",
    "c = Client(host='localhost', port_expose=12345)  # connect to localhost:12345\n",
    "c.post('/search', Document(text='request(on=something)'), on_done=print_matches)"
   ]
  },
  {
   "cell_type": "markdown",
   "metadata": {},
   "source": [
    "It finds the lines most similar to \"request(on=something)\" from the server code snippet and prints the following:"
   ]
  },
  {
   "cell_type": "code",
   "execution_count": null,
   "metadata": {
    "pycharm": {
     "name": "#%%\n"
    }
   },
   "outputs": [],
   "source": []
  },
  {
   "cell_type": "markdown",
   "metadata": {},
   "source": [
    "Need help in understanding Jina? Ask a question to friendly Jina community on [Slack](https://slack.jina.ai/) (usual response time: 1hr)"
   ]
  },
  {
   "cell_type": "code",
   "execution_count": null,
   "metadata": {
    "pycharm": {
     "name": "#%%\n"
    }
   },
   "outputs": [],
   "source": []
  },
  {
   "cell_type": "code",
   "execution_count": null,
   "metadata": {
    "pycharm": {
     "name": "#%%\n"
    }
   },
   "outputs": [],
   "source": []
  },
  {
   "cell_type": "code",
   "execution_count": null,
   "metadata": {
    "pycharm": {
     "name": "#%%"
    }
   },
   "outputs": [],
   "source": []
  }
 ],
 "metadata": {
  "kernelspec": {
   "display_name": "Python 3 (ipykernel)",
   "language": "python",
   "name": "python3"
  },
  "language_info": {
   "codemirror_mode": {
    "name": "ipython",
    "version": 3
   },
   "file_extension": ".py",
   "mimetype": "text/x-python",
   "name": "python",
   "nbconvert_exporter": "python",
   "pygments_lexer": "ipython3",
   "version": "3.9.2"
  }
 },
 "nbformat": 4,
 "nbformat_minor": 1
}
