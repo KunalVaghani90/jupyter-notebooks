{
 "cells": [
  {
   "cell_type": "markdown",
   "metadata": {},
   "source": [
    "To try this example, Go to Runtime -> Run all"
   ]
  },
  {
   "cell_type": "code",
   "execution_count": null,
   "metadata": {
    "pycharm": {
     "name": "#%%\n"
    }
   },
   "outputs": [],
   "source": []
  },
  {
   "cell_type": "markdown",
   "metadata": {},
   "source": [
    "Report problems with this example on [GitHub Issues](https://github.com/jina-ai/jina/issues/new/choose)"
   ]
  },
  {
   "cell_type": "code",
   "execution_count": null,
   "metadata": {
    "pycharm": {
     "name": "#%%\n"
    }
   },
   "outputs": [],
   "source": []
  },
  {
   "cell_type": "markdown",
   "metadata": {
    "pycharm": {
     "name": "#%% md\n"
    }
   },
   "source": [
    "Make sure to run this command to install Jina 2.0 for this notebook"
   ]
  },
  {
   "cell_type": "code",
   "execution_count": 1,
   "metadata": {
    "pycharm": {
     "name": "#%%\n"
    }
   },
   "outputs": [
    {
     "name": "stdout",
     "output_type": "stream",
     "text": [
      "Requirement already satisfied: jina in /Users/kel/codes/jina/venv/lib/python3.7/site-packages (2.0.3)\n",
      "Requirement already satisfied: pyzmq>=17.1.0 in /Users/kel/codes/jina/venv/lib/python3.7/site-packages (from jina) (22.0.3)\n",
      "Requirement already satisfied: grpcio>=1.33.1 in /Users/kel/codes/jina/venv/lib/python3.7/site-packages (from jina) (1.36.1)\n",
      "Requirement already satisfied: numpy in /Users/kel/codes/jina/venv/lib/python3.7/site-packages (from jina) (1.20.2)\n",
      "Requirement already satisfied: pyyaml>=5.3.1 in /Users/kel/codes/jina/venv/lib/python3.7/site-packages (from jina) (5.4.1)\n",
      "Requirement already satisfied: tornado>=5.1.0 in /Users/kel/codes/jina/venv/lib/python3.7/site-packages (from jina) (6.1)\n",
      "Requirement already satisfied: protobuf>=3.13.0 in /Users/kel/codes/jina/venv/lib/python3.7/site-packages (from jina) (3.15.6)\n",
      "Requirement already satisfied: six>=1.5.2 in /Users/kel/codes/jina/venv/lib/python3.7/site-packages (from grpcio>=1.33.1->jina) (1.15.0)\n",
      "\u001B[33mWARNING: You are using pip version 21.0.1; however, version 21.1.3 is available.\n",
      "You should consider upgrading via the '/Users/kel/codes/jina/venv/bin/python -m pip install --upgrade pip' command.\u001B[0m\n"
     ]
    }
   ],
   "source": [
    "!pip install --pre jina"
   ]
  },
  {
   "cell_type": "markdown",
   "metadata": {
    "collapsed": true,
    "pycharm": {
     "name": "#%% md\n"
    }
   },
   "source": [
    "## Minimum Working Example for Jina 2.0\n",
    "\n",
    "This notebook explains code adapted from the [38-Line Get Started](https://github.com/jina-ai/jina#get-started).\n",
    "\n",
    "The demo indices every line of its *own source code*, then searches for the most similar line to `\"request(on=something)\"`. No other library required, no external dataset required. The dataset is the codebase.\n",
    "\n",
    "### Import"
   ]
  },
  {
   "cell_type": "markdown",
   "metadata": {
    "pycharm": {
     "name": "#%% md\n"
    }
   },
   "source": [
    "For this demo, we only need to import `numpy` and `jina`:"
   ]
  },
  {
   "cell_type": "code",
   "execution_count": 2,
   "metadata": {
    "pycharm": {
     "name": "#%%\n"
    }
   },
   "outputs": [],
   "source": [
    "import os\n",
    "import numpy as np\n",
    "from jina import Document, DocumentArray, Executor, Flow, requests, Client\n",
    "from jina.types.request import Response"
   ]
  },
  {
   "cell_type": "markdown",
   "metadata": {
    "pycharm": {
     "name": "#%% md\n"
    }
   },
   "source": [
    "### Character embedding\n",
    "\n",
    "For embedding every line of the code, we want to represent it into a vector using simple character embedding and mean-pooling.\n",
    "\n",
    "The character embedding is a simple identity matrix.\n",
    "\n",
    "To do that we need to write a new `Executor`:"
   ]
  },
  {
   "cell_type": "code",
   "execution_count": 3,
   "metadata": {
    "pycharm": {
     "name": "#%%\n"
    }
   },
   "outputs": [],
   "source": [
    "class CharEmbed(Executor):  # a simple character embedding with mean-pooling\n",
    "    offset = 32  # letter `a`\n",
    "    dim = 127 - offset + 1  # last pos reserved for `UNK`\n",
    "    char_embd = np.eye(dim) * 1  # one-hot embedding for all chars\n",
    "\n",
    "    @requests\n",
    "    def foo(self, docs: DocumentArray, **kwargs):\n",
    "        for d in docs:\n",
    "            r_emb = [ord(c) - self.offset if self.offset <= ord(c) <= 127 else (self.dim - 1) for c in d.text]\n",
    "            d.embedding = self.char_embd[r_emb, :].mean(axis=0)  # mean-pooling"
   ]
  },
  {
   "cell_type": "markdown",
   "metadata": {},
   "source": [
    "### Indexing\n",
    "\n",
    "To store & retrieve encoded results, we need an indexer. At index time, it stores `DocumentArray` into memory. At query time, it computes the Euclidean distance between the embeddings of query Documents and all embeddings of the stored Documents.\n",
    "\n",
    "The indexing and searching are represented by `@request('/index')` and `@request('/search')`, respectively."
   ]
  },
  {
   "cell_type": "code",
   "execution_count": 4,
   "metadata": {
    "pycharm": {
     "name": "#%%\n"
    }
   },
   "outputs": [],
   "source": [
    "class Indexer(Executor):\n",
    "    _docs = DocumentArray()  # for storing all document in memory\n",
    "\n",
    "    @requests(on='/index')\n",
    "    def foo(self, docs: DocumentArray, **kwargs):\n",
    "        self._docs.extend(docs)  # extend stored `docs`\n",
    "\n",
    "    @requests(on='/search')\n",
    "    def bar(self, docs: DocumentArray, **kwargs):\n",
    "        q = np.stack(docs.get_attributes('embedding'))  # get all embedding from query docs\n",
    "        d = np.stack(self._docs.get_attributes('embedding'))  # get all embedding from stored docs\n",
    "        euclidean_dist = np.linalg.norm(q[:, None, :] - d[None, :, :], axis=-1)  # pairwise euclidean distance\n",
    "        for dist, query in zip(euclidean_dist, docs):  # add & sort match\n",
    "            query.matches = [Document(self._docs[int(idx)], copy=True, scores={'euclid': d}) for idx, d in enumerate(dist)]\n",
    "            query.matches.sort(key=lambda m: m.scores['euclid'].value)  # sort matches by its value"
   ]
  },
  {
   "cell_type": "markdown",
   "metadata": {
    "pycharm": {
     "name": "#%% md\n"
    }
   },
   "source": [
    "### Callback function\n",
    "\n",
    "Callback function is invoked when the search is done."
   ]
  },
  {
   "cell_type": "code",
   "execution_count": 5,
   "metadata": {
    "pycharm": {
     "name": "#%%\n"
    }
   },
   "outputs": [],
   "source": [
    "def print_matches(req):  # the callback function invoked when task is done\n",
    "    for idx, d in enumerate(req.docs[0].matches[:3]):  # print top-3 matches\n",
    "        print(f'[{idx}]{d.scores[\"euclid\"].value:2f}: \"{d.text}\"')"
   ]
  },
  {
   "cell_type": "markdown",
   "metadata": {},
   "source": [
    "### Flow"
   ]
  },
  {
   "cell_type": "code",
   "execution_count": 6,
   "metadata": {
    "pycharm": {
     "name": "#%%\n"
    }
   },
   "outputs": [
    {
     "name": "stdout",
     "output_type": "stream",
     "text": [
      "\u001B[32m      pod0/head@6911[L]:ready and listening\u001B[0m\n",
      "\u001B[32m     pod0/pea-0@6911[L]:ready and listening\u001B[0m\n",
      "\u001B[32m     pod0/pea-1@6911[L]:ready and listening\u001B[0m\n",
      "\u001B[32m      pod0/tail@6911[L]:ready and listening\u001B[0m\n",
      "\u001B[32m           pod1@6911[L]:ready and listening\u001B[0m\n",
      "\u001B[32m        gateway@6911[L]:ready and listening\u001B[0m\n",
      "           Flow@6911[I]:🎉 Flow is ready to use!\n",
      "\t🔗 Protocol: \t\t\u001B[1mGRPC\u001B[0m\n",
      "\t🏠 Local access:\t\u001B[4m\u001B[36m0.0.0.0:12345\u001B[0m\n",
      "\t🔒 Private network:\t\u001B[4m\u001B[36m192.168.31.90:12345\u001B[0m\u001B[0m\n",
      "\u001B[31m     GRPCClient@6911[E]:gRPC error: StatusCode.UNAVAILABLE failed to connect to all addresses\n",
      "the ongoing request is terminated as the server is not available or closed already\u001B[0m\n"
     ]
    },
    {
     "name": "stderr",
     "output_type": "stream",
     "text": [
      "Exception in thread Thread-10:\n",
      "Traceback (most recent call last):\n",
      "  File \"/Library/Developer/CommandLineTools/Library/Frameworks/Python3.framework/Versions/3.7/lib/python3.7/threading.py\", line 917, in _bootstrap_inner\n",
      "    self.run()\n",
      "  File \"/Users/kel/codes/jina/venv/lib/python3.7/site-packages/jina/helper.py\", line 1072, in run\n",
      "    self.result = asyncio.run(func(*args, **kwargs))\n",
      "  File \"/Library/Developer/CommandLineTools/Library/Frameworks/Python3.framework/Versions/3.7/lib/python3.7/asyncio/runners.py\", line 43, in run\n",
      "    return loop.run_until_complete(main)\n",
      "  File \"/Library/Developer/CommandLineTools/Library/Frameworks/Python3.framework/Versions/3.7/lib/python3.7/asyncio/base_events.py\", line 584, in run_until_complete\n",
      "    return future.result()\n",
      "  File \"/Users/kel/codes/jina/venv/lib/python3.7/site-packages/jina/clients/mixin.py\", line 49, in _get_results\n",
      "    async for resp in c._get_results(*args, **kwargs):\n",
      "  File \"/Users/kel/codes/jina/venv/lib/python3.7/site-packages/jina/clients/base/grpc.py\", line 78, in _get_results\n",
      "    raise rpc_ex\n",
      "  File \"/Users/kel/codes/jina/venv/lib/python3.7/site-packages/jina/clients/base/grpc.py\", line 51, in _get_results\n",
      "    async for resp in stub.Call(req_iter):\n",
      "  File \"/Users/kel/codes/jina/venv/lib/python3.7/site-packages/grpc/aio/_call.py\", line 321, in _fetch_stream_responses\n",
      "    await self._raise_for_status()\n",
      "  File \"/Users/kel/codes/jina/venv/lib/python3.7/site-packages/grpc/aio/_call.py\", line 232, in _raise_for_status\n",
      "    self._cython_call.status())\n",
      "grpc.aio._call.AioRpcError: <AioRpcError of RPC that terminated with:\n",
      "\tstatus = StatusCode.UNAVAILABLE\n",
      "\tdetails = \"failed to connect to all addresses\"\n",
      "\tdebug_error_string = \"{\"created\":\"@1626017948.596092000\",\"description\":\"Failed to pick subchannel\",\"file\":\"src/core/ext/filters/client_channel/client_channel.cc\",\"file_line\":5397,\"referenced_errors\":[{\"created\":\"@1626017948.596082000\",\"description\":\"failed to connect to all addresses\",\"file\":\"src/core/ext/filters/client_channel/lb_policy/pick_first/pick_first.cc\",\"file_line\":398,\"grpc_status\":14}]}\"\n",
      ">\n",
      "\n"
     ]
    },
    {
     "ename": "BadClient",
     "evalue": "something wrong when running the eventloop, result can not be retrieved",
     "output_type": "error",
     "traceback": [
      "\u001B[0;31m---------------------------------------------------------------------------\u001B[0m",
      "\u001B[0;31mAttributeError\u001B[0m                            Traceback (most recent call last)",
      "\u001B[0;32m~/codes/jina/venv/lib/python3.7/site-packages/jina/helper.py\u001B[0m in \u001B[0;36mrun_async\u001B[0;34m(func, *args, **kwargs)\u001B[0m\n\u001B[1;32m   1086\u001B[0m             \u001B[0;32mtry\u001B[0m\u001B[0;34m:\u001B[0m\u001B[0;34m\u001B[0m\u001B[0;34m\u001B[0m\u001B[0m\n\u001B[0;32m-> 1087\u001B[0;31m                 \u001B[0;32mreturn\u001B[0m \u001B[0mthread\u001B[0m\u001B[0;34m.\u001B[0m\u001B[0mresult\u001B[0m\u001B[0;34m\u001B[0m\u001B[0;34m\u001B[0m\u001B[0m\n\u001B[0m\u001B[1;32m   1088\u001B[0m             \u001B[0;32mexcept\u001B[0m \u001B[0mAttributeError\u001B[0m\u001B[0;34m:\u001B[0m\u001B[0;34m\u001B[0m\u001B[0;34m\u001B[0m\u001B[0m\n",
      "\u001B[0;31mAttributeError\u001B[0m: '_RunThread' object has no attribute 'result'",
      "\nDuring handling of the above exception, another exception occurred:\n",
      "\u001B[0;31mBadClient\u001B[0m                                 Traceback (most recent call last)",
      "\u001B[0;32m/var/folders/zx/_1_9vzvx36j8hxg3b3x40brm0000gn/T/ipykernel_6911/2579485346.py\u001B[0m in \u001B[0;36m<module>\u001B[0;34m\u001B[0m\n\u001B[1;32m      1\u001B[0m \u001B[0mf\u001B[0m \u001B[0;34m=\u001B[0m \u001B[0mFlow\u001B[0m\u001B[0;34m(\u001B[0m\u001B[0mport_expose\u001B[0m\u001B[0;34m=\u001B[0m\u001B[0;36m12345\u001B[0m\u001B[0;34m)\u001B[0m\u001B[0;34m.\u001B[0m\u001B[0madd\u001B[0m\u001B[0;34m(\u001B[0m\u001B[0muses\u001B[0m\u001B[0;34m=\u001B[0m\u001B[0mCharEmbed\u001B[0m\u001B[0;34m,\u001B[0m \u001B[0mparallel\u001B[0m\u001B[0;34m=\u001B[0m\u001B[0;36m2\u001B[0m\u001B[0;34m)\u001B[0m\u001B[0;34m.\u001B[0m\u001B[0madd\u001B[0m\u001B[0;34m(\u001B[0m\u001B[0muses\u001B[0m\u001B[0;34m=\u001B[0m\u001B[0mIndexer\u001B[0m\u001B[0;34m)\u001B[0m  \u001B[0;31m# build a Flow, with 2 parallel CharEmbed, tho unnecessary\u001B[0m\u001B[0;34m\u001B[0m\u001B[0;34m\u001B[0m\u001B[0m\n\u001B[1;32m      2\u001B[0m \u001B[0;32mwith\u001B[0m \u001B[0mf\u001B[0m\u001B[0;34m:\u001B[0m\u001B[0;34m\u001B[0m\u001B[0;34m\u001B[0m\u001B[0m\n\u001B[0;32m----> 3\u001B[0;31m     \u001B[0mf\u001B[0m\u001B[0;34m.\u001B[0m\u001B[0mpost\u001B[0m\u001B[0;34m(\u001B[0m\u001B[0;34m'/index'\u001B[0m\u001B[0;34m,\u001B[0m \u001B[0mDocumentArray\u001B[0m\u001B[0;34m(\u001B[0m\u001B[0;34m[\u001B[0m\u001B[0mDocument\u001B[0m\u001B[0;34m(\u001B[0m\u001B[0mtext\u001B[0m\u001B[0;34m=\u001B[0m\u001B[0mt\u001B[0m\u001B[0;34m.\u001B[0m\u001B[0mstrip\u001B[0m\u001B[0;34m(\u001B[0m\u001B[0;34m)\u001B[0m\u001B[0;34m)\u001B[0m \u001B[0;32mfor\u001B[0m \u001B[0mt\u001B[0m \u001B[0;32min\u001B[0m \u001B[0mopen\u001B[0m\u001B[0;34m(\u001B[0m\u001B[0mos\u001B[0m\u001B[0;34m.\u001B[0m\u001B[0m__file__\u001B[0m\u001B[0;34m)\u001B[0m \u001B[0;32mif\u001B[0m \u001B[0mt\u001B[0m\u001B[0;34m.\u001B[0m\u001B[0mstrip\u001B[0m\u001B[0;34m(\u001B[0m\u001B[0;34m)\u001B[0m\u001B[0;34m]\u001B[0m\u001B[0;34m)\u001B[0m\u001B[0;34m)\u001B[0m \u001B[0;31m# index all lines of this file\u001B[0m\u001B[0;34m\u001B[0m\u001B[0;34m\u001B[0m\u001B[0m\n\u001B[0m\u001B[1;32m      4\u001B[0m     \u001B[0mc\u001B[0m \u001B[0;34m=\u001B[0m \u001B[0mClient\u001B[0m\u001B[0;34m(\u001B[0m\u001B[0mhost\u001B[0m\u001B[0;34m=\u001B[0m\u001B[0;34m'localhost'\u001B[0m\u001B[0;34m,\u001B[0m \u001B[0mport_expose\u001B[0m\u001B[0;34m=\u001B[0m\u001B[0;36m12345\u001B[0m\u001B[0;34m)\u001B[0m  \u001B[0;31m# connect to localhost:12345\u001B[0m\u001B[0;34m\u001B[0m\u001B[0;34m\u001B[0m\u001B[0m\n\u001B[1;32m      5\u001B[0m     \u001B[0mc\u001B[0m\u001B[0;34m.\u001B[0m\u001B[0mpost\u001B[0m\u001B[0;34m(\u001B[0m\u001B[0;34m'/search'\u001B[0m\u001B[0;34m,\u001B[0m \u001B[0mDocument\u001B[0m\u001B[0;34m(\u001B[0m\u001B[0mtext\u001B[0m\u001B[0;34m=\u001B[0m\u001B[0;34m'@request(on=something)'\u001B[0m\u001B[0;34m)\u001B[0m\u001B[0;34m,\u001B[0m \u001B[0mon_done\u001B[0m\u001B[0;34m=\u001B[0m\u001B[0mprint_matches\u001B[0m\u001B[0;34m)\u001B[0m\u001B[0;34m\u001B[0m\u001B[0;34m\u001B[0m\u001B[0m\n",
      "\u001B[0;32m~/codes/jina/venv/lib/python3.7/site-packages/jina/clients/mixin.py\u001B[0m in \u001B[0;36mpost\u001B[0;34m(self, on, inputs, on_done, on_error, on_always, parameters, target_peapod, request_size, show_progress, continue_on_error, return_results, **kwargs)\u001B[0m\n\u001B[1;32m     64\u001B[0m             \u001B[0mparameters\u001B[0m\u001B[0;34m=\u001B[0m\u001B[0mparameters\u001B[0m\u001B[0;34m,\u001B[0m\u001B[0;34m\u001B[0m\u001B[0;34m\u001B[0m\u001B[0m\n\u001B[1;32m     65\u001B[0m             \u001B[0mrequest_size\u001B[0m\u001B[0;34m=\u001B[0m\u001B[0mrequest_size\u001B[0m\u001B[0;34m,\u001B[0m\u001B[0;34m\u001B[0m\u001B[0;34m\u001B[0m\u001B[0m\n\u001B[0;32m---> 66\u001B[0;31m             \u001B[0;34m**\u001B[0m\u001B[0mkwargs\u001B[0m\u001B[0;34m,\u001B[0m\u001B[0;34m\u001B[0m\u001B[0;34m\u001B[0m\u001B[0m\n\u001B[0m\u001B[1;32m     67\u001B[0m         )\n\u001B[1;32m     68\u001B[0m \u001B[0;34m\u001B[0m\u001B[0m\n",
      "\u001B[0;32m~/codes/jina/venv/lib/python3.7/site-packages/jina/helper.py\u001B[0m in \u001B[0;36mrun_async\u001B[0;34m(func, *args, **kwargs)\u001B[0m\n\u001B[1;32m   1090\u001B[0m \u001B[0;34m\u001B[0m\u001B[0m\n\u001B[1;32m   1091\u001B[0m                 raise BadClient(\n\u001B[0;32m-> 1092\u001B[0;31m                     \u001B[0;34m'something wrong when running the eventloop, result can not be retrieved'\u001B[0m\u001B[0;34m\u001B[0m\u001B[0;34m\u001B[0m\u001B[0m\n\u001B[0m\u001B[1;32m   1093\u001B[0m                 )\n\u001B[1;32m   1094\u001B[0m         \u001B[0;32melse\u001B[0m\u001B[0;34m:\u001B[0m\u001B[0;34m\u001B[0m\u001B[0;34m\u001B[0m\u001B[0m\n",
      "\u001B[0;31mBadClient\u001B[0m: something wrong when running the eventloop, result can not be retrieved"
     ]
    }
   ],
   "source": [
    "f = Flow(port_expose=12345).add(uses=CharEmbed, parallel=2).add(uses=Indexer)  # build a Flow, with 2 parallel CharEmbed, tho unnecessary\n",
    "with f:\n",
    "    f.post('/index', DocumentArray([Document(text=t.strip()) for t in open(os.__file__) if t.strip()])) # index all lines of this file\n",
    "    c = Client(host='localhost', port_expose=12345)  # connect to localhost:12345\n",
    "    c.post('/search', Document(text='@request(on=something)'), on_done=print_matches)\n"
   ]
  },
  {
   "cell_type": "markdown",
   "metadata": {},
   "source": [
    "It finds the lines most similar to \"request(on=something)\" from the server code snippet and prints the following:"
   ]
  },
  {
   "cell_type": "code",
   "execution_count": null,
   "metadata": {
    "pycharm": {
     "name": "#%%\n"
    }
   },
   "outputs": [],
   "source": []
  },
  {
   "cell_type": "markdown",
   "metadata": {
    "pycharm": {
     "name": "#%% md\n"
    }
   },
   "source": [
    "Need help in understanding Jina? Ask a question to friendly Jina community on [Slack](https://slack.jina.ai/) (usual response time: 1hr)\n",
    "\n"
   ]
  }
 ],
 "metadata": {
  "kernelspec": {
   "display_name": "Python 3 (ipykernel)",
   "language": "python",
   "name": "python3"
  },
  "language_info": {
   "codemirror_mode": {
    "name": "ipython",
    "version": 3
   },
   "file_extension": ".py",
   "mimetype": "text/x-python",
   "name": "python",
   "nbconvert_exporter": "python",
   "pygments_lexer": "ipython3",
   "version": "3.7.3"
  }
 },
 "nbformat": 4,
 "nbformat_minor": 1
}