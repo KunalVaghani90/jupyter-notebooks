{
 "cells": [
  {
   "cell_type": "markdown",
   "id": "animal-liability",
   "metadata": {},
   "source": [
    "## Flow Optimization\n",
    "\n",
    "Flow Optimization gets the most out of your data.\n",
    "It allows hyper parameter optimization on a complete search Flow, including indexing and querying.\n",
    "For example, choosing a middle layer of a model often results in richer semantic embeddings.\n",
    "Let's test through all layers of a model."
   ]
  },
  {
   "cell_type": "markdown",
   "id": "solved-ceiling",
   "metadata": {},
   "source": [
    "### Setup\n",
    "\n",
    "Before we start, we need to install the needed dependencies."
   ]
  },
  {
   "cell_type": "code",
   "execution_count": 6,
   "id": "extreme-carbon",
   "metadata": {},
   "outputs": [
    {
     "name": "stdout",
     "output_type": "stream",
     "text": [
      "Requirement already satisfied: jina[optimizer] in /home/maximilian/.pyenv/versions/3.7.10/lib/python3.7/site-packages (1.0.16)\n",
      "Requirement already satisfied: numpy in /home/maximilian/.pyenv/versions/3.7.10/lib/python3.7/site-packages (from jina[optimizer]) (1.19.5)\n",
      "Requirement already satisfied: protobuf>=3.13.0 in /home/maximilian/.pyenv/versions/3.7.10/lib/python3.7/site-packages (from jina[optimizer]) (3.15.6)\n",
      "Requirement already satisfied: pyzmq>=17.1.0 in /home/maximilian/.pyenv/versions/3.7.10/lib/python3.7/site-packages (from jina[optimizer]) (22.0.3)\n",
      "Requirement already satisfied: grpcio>=1.33.1 in /home/maximilian/.pyenv/versions/3.7.10/lib/python3.7/site-packages (from jina[optimizer]) (1.36.1)\n",
      "Requirement already satisfied: tornado>=5.1.0 in /home/maximilian/.pyenv/versions/3.7.10/lib/python3.7/site-packages (from jina[optimizer]) (6.1)\n",
      "Requirement already satisfied: pyyaml>=5.3.1 in /home/maximilian/.pyenv/versions/3.7.10/lib/python3.7/site-packages (from jina[optimizer]) (5.4.1)\n",
      "Requirement already satisfied: lz4<3.1.2 in /home/maximilian/.pyenv/versions/3.7.10/lib/python3.7/site-packages (from jina[optimizer]) (3.1.1)\n",
      "Requirement already satisfied: uvloop in /home/maximilian/.pyenv/versions/3.7.10/lib/python3.7/site-packages (from jina[optimizer]) (0.15.2)\n",
      "Requirement already satisfied: optuna in /home/maximilian/.pyenv/versions/3.7.10/lib/python3.7/site-packages (from jina[optimizer]) (2.6.0)\n",
      "Requirement already satisfied: six>=1.5.2 in /home/maximilian/.pyenv/versions/3.7.10/lib/python3.7/site-packages (from grpcio>=1.33.1->jina[optimizer]) (1.15.0)\n",
      "Requirement already satisfied: sqlalchemy>=1.1.0 in /home/maximilian/.pyenv/versions/3.7.10/lib/python3.7/site-packages (from optuna->jina[optimizer]) (1.4.2)\n",
      "Requirement already satisfied: scipy!=1.4.0 in /home/maximilian/.pyenv/versions/3.7.10/lib/python3.7/site-packages (from optuna->jina[optimizer]) (1.6.2)\n",
      "Requirement already satisfied: tqdm in /home/maximilian/.pyenv/versions/3.7.10/lib/python3.7/site-packages (from optuna->jina[optimizer]) (4.59.0)\n",
      "Requirement already satisfied: cliff in /home/maximilian/.pyenv/versions/3.7.10/lib/python3.7/site-packages (from optuna->jina[optimizer]) (3.7.0)\n",
      "Requirement already satisfied: alembic in /home/maximilian/.pyenv/versions/3.7.10/lib/python3.7/site-packages (from optuna->jina[optimizer]) (1.5.8)\n",
      "Requirement already satisfied: cmaes>=0.8.2 in /home/maximilian/.pyenv/versions/3.7.10/lib/python3.7/site-packages (from optuna->jina[optimizer]) (0.8.2)\n",
      "Requirement already satisfied: colorlog in /home/maximilian/.pyenv/versions/3.7.10/lib/python3.7/site-packages (from optuna->jina[optimizer]) (4.8.0)\n",
      "Requirement already satisfied: packaging>=20.0 in /home/maximilian/.pyenv/versions/3.7.10/lib/python3.7/site-packages (from optuna->jina[optimizer]) (20.9)\n",
      "Requirement already satisfied: pyparsing>=2.0.2 in /home/maximilian/.pyenv/versions/3.7.10/lib/python3.7/site-packages (from packaging>=20.0->optuna->jina[optimizer]) (2.4.7)\n",
      "Requirement already satisfied: importlib-metadata in /home/maximilian/.pyenv/versions/3.7.10/lib/python3.7/site-packages (from sqlalchemy>=1.1.0->optuna->jina[optimizer]) (3.7.0)\n",
      "Requirement already satisfied: greenlet!=0.4.17 in /home/maximilian/.pyenv/versions/3.7.10/lib/python3.7/site-packages (from sqlalchemy>=1.1.0->optuna->jina[optimizer]) (1.0.0)\n",
      "Requirement already satisfied: python-editor>=0.3 in /home/maximilian/.pyenv/versions/3.7.10/lib/python3.7/site-packages (from alembic->optuna->jina[optimizer]) (1.0.4)\n",
      "Requirement already satisfied: python-dateutil in /home/maximilian/.pyenv/versions/3.7.10/lib/python3.7/site-packages (from alembic->optuna->jina[optimizer]) (2.8.1)\n",
      "Requirement already satisfied: Mako in /home/maximilian/.pyenv/versions/3.7.10/lib/python3.7/site-packages (from alembic->optuna->jina[optimizer]) (1.1.4)\n",
      "Requirement already satisfied: PrettyTable>=0.7.2 in /home/maximilian/.pyenv/versions/3.7.10/lib/python3.7/site-packages (from cliff->optuna->jina[optimizer]) (2.1.0)\n",
      "Requirement already satisfied: stevedore>=2.0.1 in /home/maximilian/.pyenv/versions/3.7.10/lib/python3.7/site-packages (from cliff->optuna->jina[optimizer]) (3.3.0)\n",
      "Requirement already satisfied: pbr!=2.1.0,>=2.0.0 in /home/maximilian/.pyenv/versions/3.7.10/lib/python3.7/site-packages (from cliff->optuna->jina[optimizer]) (5.5.1)\n",
      "Requirement already satisfied: cmd2>=1.0.0 in /home/maximilian/.pyenv/versions/3.7.10/lib/python3.7/site-packages (from cliff->optuna->jina[optimizer]) (1.5.0)\n",
      "Requirement already satisfied: attrs>=16.3.0 in /home/maximilian/.pyenv/versions/3.7.10/lib/python3.7/site-packages (from cmd2>=1.0.0->cliff->optuna->jina[optimizer]) (20.3.0)\n",
      "Requirement already satisfied: pyperclip>=1.6 in /home/maximilian/.pyenv/versions/3.7.10/lib/python3.7/site-packages (from cmd2>=1.0.0->cliff->optuna->jina[optimizer]) (1.8.2)\n",
      "Requirement already satisfied: wcwidth>=0.1.7 in /home/maximilian/.pyenv/versions/3.7.10/lib/python3.7/site-packages (from cmd2>=1.0.0->cliff->optuna->jina[optimizer]) (0.2.5)\n",
      "Requirement already satisfied: colorama>=0.3.7 in /home/maximilian/.pyenv/versions/3.7.10/lib/python3.7/site-packages (from cmd2>=1.0.0->cliff->optuna->jina[optimizer]) (0.4.4)\n",
      "Requirement already satisfied: typing-extensions>=3.6.4 in /home/maximilian/.pyenv/versions/3.7.10/lib/python3.7/site-packages (from importlib-metadata->sqlalchemy>=1.1.0->optuna->jina[optimizer]) (3.7.4.3)\n",
      "Requirement already satisfied: zipp>=0.5 in /home/maximilian/.pyenv/versions/3.7.10/lib/python3.7/site-packages (from importlib-metadata->sqlalchemy>=1.1.0->optuna->jina[optimizer]) (3.4.0)\n",
      "Requirement already satisfied: MarkupSafe>=0.9.2 in /home/maximilian/.pyenv/versions/3.7.10/lib/python3.7/site-packages (from Mako->alembic->optuna->jina[optimizer]) (1.1.1)\n"
     ]
    }
   ],
   "source": [
    "%%bash\n",
    "pip install jina[optimizer]"
   ]
  },
  {
   "cell_type": "markdown",
   "id": "alert-prior",
   "metadata": {},
   "source": [
    "### Imports\n",
    "\n",
    "First, let's get all needed imports."
   ]
  },
  {
   "cell_type": "code",
   "execution_count": 7,
   "id": "palestinian-screen",
   "metadata": {},
   "outputs": [],
   "source": [
    "import numpy as np\n",
    "from jina import Document\n",
    "from jina.executors.encoders import BaseEncoder\n",
    "from jina.optimizers import FlowOptimizer, MeanEvaluationCallback\n",
    "from jina.optimizers.flow_runner import SingleFlowRunner\n"
   ]
  },
  {
   "cell_type": "markdown",
   "id": "ranking-centre",
   "metadata": {},
   "source": [
    "### Flow definition\n",
    "\n",
    "For simplicity the Flow consists of two parts: An Encoder and an Evaluator.\n",
    "The `SimpleEncoder` attaches an embedding to each given Document.\n",
    "The `EuclideanEvaluator` scores the embedding agains a given groundtruth.\n",
    "\n",
    "`ENCODER_LAYER` allows the optimizer to change the Encoder configuration with each iteration.\n",
    "Beware, that the Pod definition is done via the inline syntax of Jina."
   ]
  },
  {
   "cell_type": "code",
   "execution_count": 2,
   "id": "three-mayor",
   "metadata": {},
   "outputs": [],
   "source": [
    "flow = '''jtype: Flow\n",
    "version: '1'\n",
    "pods:\n",
    "  - uses:\n",
    "      jtype: SimpleEncoder\n",
    "      with:\n",
    "        layer: ${{JINA_ENCODER_LAYER}}\n",
    "  - uses: EuclideanEvaluator\n",
    "'''"
   ]
  },
  {
   "cell_type": "markdown",
   "id": "beginning-electric",
   "metadata": {},
   "source": [
    "### Encoder Definition\n",
    "\n",
    "Now we will fake a model with three layers.\n",
    "For simplicity each layer only consists of a single integer which is taken as the embedding.\n"
   ]
  },
  {
   "cell_type": "code",
   "execution_count": 3,
   "id": "illegal-wallpaper",
   "metadata": {},
   "outputs": [],
   "source": [
    "class SimpleEncoder(BaseEncoder):\n",
    "\n",
    "    ENCODE_LOOKUP = {\n",
    "        '🐲': [1, 3, 5],\n",
    "        '🐦': [2, 4, 7],\n",
    "        '🐢': [0, 2, 5],\n",
    "    }\n",
    "\n",
    "    def __init__(self, layer=0, *args, **kwargs):\n",
    "        super().__init__(*args, **kwargs)\n",
    "        self._layer = layer\n",
    "\n",
    "    def encode(self, data, *args, **kwargs) -> 'np.ndarray':\n",
    "        return np.array([[self.ENCODE_LOOKUP[data[0]][self._layer]]])\n"
   ]
  },
  {
   "cell_type": "markdown",
   "id": "million-agency",
   "metadata": {},
   "source": [
    "### Parameter definition\n",
    "\n",
    "We are loading the parameter from the `parameter.yml` file, which contains the following:\n",
    "\n",
    "```yaml\n",
    "- !IntegerParameter\n",
    "  jaml_variable: JINA_ENCODER_LAYER\n",
    "  high: 2\n",
    "  low: 0\n",
    "  step_size: 1\n",
    "```"
   ]
  },
  {
   "cell_type": "markdown",
   "id": "generous-commander",
   "metadata": {},
   "source": [
    "### De\n",
    "\n",
    "For optimization, we need to run almost equal Flows again and again with the same data.\n",
    "This is realized with a `SingleFlowRunner`."
   ]
  },
  {
   "cell_type": "code",
   "execution_count": 4,
   "id": "sexual-yield",
   "metadata": {},
   "outputs": [],
   "source": [
    "documents = [\n",
    "    (Document(content='🐲'), Document(embedding=np.array([2]))),\n",
    "    (Document(content='🐦'), Document(embedding=np.array([3]))),\n",
    "    (Document(content='🐢'), Document(embedding=np.array([3])))\n",
    "]\n",
    "\n",
    "runner = SingleFlowRunner(\n",
    "    flow, documents, 1, 'search', overwrite_workspace=True\n",
    ")\n"
   ]
  },
  {
   "cell_type": "code",
   "execution_count": 5,
   "id": "wound-seafood",
   "metadata": {},
   "outputs": [
    {
     "name": "stderr",
     "output_type": "stream",
     "text": [
      "\u001b[32m[I 2021-04-13 13:47:58,678]\u001b[0m A new study created in memory with name: no-name-9637e0dc-ea43-48cd-92b4-4ae16b9840f7\u001b[0m\n"
     ]
    },
    {
     "name": "stdout",
     "output_type": "stream",
     "text": [
      "           pod0@14412[I]:starting jina.peapods.runtimes.zmq.zed.ZEDRuntime...\n",
      "           pod0@14412[I]:input \u001b[33mtcp://0.0.0.0:33603\u001b[0m (PULL_BIND) output \u001b[33mtcp://0.0.0.0:48297\u001b[0m (PUSH_CONNECT) control over \u001b[33mtcp://0.0.0.0:49753\u001b[0m (PAIR_BIND)\n",
      "           pod1@14419[I]:starting jina.peapods.runtimes.zmq.zed.ZEDRuntime...\n",
      "           pod1@14419[I]:input \u001b[33mtcp://0.0.0.0:48297\u001b[0m (PULL_BIND) output \u001b[33mtcp://0.0.0.0:32853\u001b[0m (PUSH_BIND) control over \u001b[33mtcp://0.0.0.0:49589\u001b[0m (PAIR_BIND)\n",
      "        gateway@14426[I]:starting jina.peapods.runtimes.asyncio.grpc.GRPCRuntime...\n",
      "  SimpleEncoder@14412[I]:post_init may take some time...\n",
      "  SimpleEncoder@14412[I]:post_init may take some time takes 0 seconds (0.00s)\n",
      "  SimpleEncoder@14412[S]:\u001b[32msuccessfully built SimpleEncoder from a yaml config\u001b[0m\n",
      "        gateway@14426[I]:input \u001b[33mtcp://0.0.0.0:32853\u001b[0m (PULL_CONNECT) output \u001b[33mtcp://0.0.0.0:33603\u001b[0m (PUSH_CONNECT) control over \u001b[33mipc:///tmp/tmp2uqru5a2\u001b[0m (PAIR_BIND)\n",
      "           pod0@12297[S]:\u001b[32mready and listening\u001b[0m\n",
      "EuclideanEvaluator@14419[I]:post_init may take some time...\n",
      "EuclideanEvaluator@14419[I]:post_init may take some time takes 0 seconds (0.01s)\n",
      "EuclideanEvaluator@14419[S]:\u001b[32msuccessfully built EuclideanEvaluator from a yaml config\u001b[0m\n",
      "        gateway@14426[S]:\u001b[32mGRPCRuntime is listening at: 0.0.0.0:33225\u001b[0m\n",
      "           pod1@12297[S]:\u001b[32mready and listening\u001b[0m\n",
      "        gateway@12297[S]:\u001b[32mready and listening\u001b[0m\n",
      "           Flow@12297[I]:3 Pods (i.e. 3 Peas) are running in this Flow\n",
      "           Flow@12297[S]:\u001b[32m🎉 Flow is ready to use, accepting \u001b[1mgRPC request\u001b[0m\u001b[0m\n",
      "           Flow@12297[I]:\n",
      "\t🖥️ Local access:\t\u001b[4m\u001b[36mtcp://0.0.0.0:33225\u001b[0m\n",
      "\t🔒 Private network:\t\u001b[4m\u001b[36mtcp://192.168.0.161:33225\u001b[0m\n",
      "\t🌐 Public address:\t\u001b[4m\u001b[36mtcp://212.91.237.145:33225\u001b[0m\n",
      "         Client@12297[S]:\u001b[32mconnected to the gateway at 0.0.0.0:33225!\u001b[0m\n",
      "\u001b[36msearch\u001b[0m |\u001b[32m█\u001b[0m                   | 📃      0 ⏱️ 0.0s 🐎 0.0/s      0      batchsearch ...\t        gateway@14426[I]:prefetching 50 requests...\n",
      "        gateway@14426[W]:\u001b[40m\u001b[33mif this takes too long, you may want to take smaller \"--prefetch\" or ask client to reduce \"--request-size\"\u001b[0m\n",
      "        gateway@14426[I]:prefetching 50 requests takes 0 seconds (0.01s)\n",
      "           pod0@14412[I]:recv SearchRequest  from gateway\u001b[32m▸\u001b[0mpod0/ZEDRuntime\u001b[32m▸\u001b[0m⚐\n",
      "           pod0@14412[I]:#sent: 0 #recv: 1 sent_size: 0 Bytes recv_size: 418 Bytes\n",
      "           pod0@14412[I]:recv SearchRequest  from gateway\u001b[32m▸\u001b[0mpod0/ZEDRuntime\u001b[32m▸\u001b[0m⚐\n",
      "           pod0@14412[I]:#sent: 1 #recv: 2 sent_size: 596 Bytes recv_size: 836 Bytes\n",
      "           pod1@14419[I]:recv SearchRequest  from gateway\u001b[32m▸\u001b[0mpod0/ZEDRuntime\u001b[32m▸\u001b[0mpod1/ZEDRuntime\u001b[32m▸\u001b[0m⚐\n",
      "           pod0@14412[I]:recv SearchRequest  from gateway\u001b[32m▸\u001b[0mpod0/ZEDRuntime\u001b[32m▸\u001b[0m⚐\n",
      "           pod1@14419[I]:#sent: 0 #recv: 1 sent_size: 0 Bytes recv_size: 527 Bytes\n",
      "           pod0@14412[I]:#sent: 2 #recv: 3 sent_size: 1.2 KB recv_size: 1.2 KB\n",
      "           pod1@14419[I]:recv SearchRequest  from gateway\u001b[32m▸\u001b[0mpod0/ZEDRuntime\u001b[32m▸\u001b[0mpod1/ZEDRuntime\u001b[32m▸\u001b[0m⚐\n",
      "           JINA@12297[I]:Num of docs evaluated: 1\n",
      "\u001b[36msearch\u001b[0m |\u001b[32m█\u001b[0m                   | 📃      1 ⏱️ 0.0s 🐎 37.1/s      1      batch           pod1@14419[I]:#sent: 1 #recv: 2 sent_size: 748 Bytes recv_size: 1.0 KB\n",
      "           pod1@14419[I]:recv SearchRequest  from gateway\u001b[32m▸\u001b[0mpod0/ZEDRuntime\u001b[32m▸\u001b[0mpod1/ZEDRuntime\u001b[32m▸\u001b[0m⚐\n",
      "           JINA@12297[I]:Num of docs evaluated: 2\n",
      "\u001b[36msearch\u001b[0m |\u001b[32m██\u001b[0m                  | 📃      2 ⏱️ 0.0s 🐎 64.9/s      2      batch           pod1@14419[I]:#sent: 2 #recv: 3 sent_size: 1.5 KB recv_size: 1.5 KB\n",
      "           JINA@12297[I]:Num of docs evaluated: 3\n",
      "\u001b[36msearch\u001b[0m |\u001b[32m███\u001b[0m                 | 📃      3 ⏱️ 0.0s 🐎 88.2/s      3      batch\u001b[32m    0 seconds (0.03s)\u001b[0m\n",
      "        gateway@14426[I]:#sent: 3 #recv: 3 sent_size: 1.4 KB recv_size: 2.0 KB\n",
      "\t\u001b[32m✅ done in ⏱ 0 seconds 🐎 85.3/s\u001b[0m\n",
      "        gateway@12297[S]:\u001b[32mterminated\u001b[0m\n",
      "           pod1@14419[I]:recv ControlRequest  from ctl\u001b[32m▸\u001b[0mpod1/ZEDRuntime\u001b[32m▸\u001b[0m⚐\n",
      "           pod1@14419[I]:#sent: 4 #recv: 4 sent_size: 2.4 KB recv_size: 1.7 KB\n",
      "           pod1@14419[I]:no update since 2021-04-13 13:47:58, will not save. If you really want to save it, call \"touch()\" before \"save()\" to force saving\n",
      "           pod1@12297[S]:\u001b[32mterminated\u001b[0m\n",
      "           pod0@14412[I]:recv ControlRequest  from ctl\u001b[32m▸\u001b[0mpod0/ZEDRuntime\u001b[32m▸\u001b[0m⚐\n",
      "           pod0@14412[I]:#sent: 4 #recv: 4 sent_size: 2.0 KB recv_size: 1.4 KB\n",
      "           pod0@14412[I]:no update since 2021-04-13 13:47:58, will not save. If you really want to save it, call \"touch()\" before \"save()\" to force saving\n",
      "           pod0@12297[S]:\u001b[32mterminated\u001b[0m\n",
      "           Flow@12297[S]:\u001b[32mflow is closed and all resources are released, current build level is 0\u001b[0m\n",
      "           JINA@12297[I]:\u001b[32mEvaluation Score: 1.0\u001b[0m\n"
     ]
    },
    {
     "name": "stderr",
     "output_type": "stream",
     "text": [
      "\u001b[32m[I 2021-04-13 13:48:00,943]\u001b[0m Trial 0 finished with value: 1.0 and parameters: {'JINA_ENCODER_LAYER': 1}. Best is trial 0 with value: 1.0.\u001b[0m\n"
     ]
    },
    {
     "name": "stdout",
     "output_type": "stream",
     "text": [
      "           pod0@14508[I]:starting jina.peapods.runtimes.zmq.zed.ZEDRuntime...\n",
      "           pod0@14508[I]:input \u001b[33mtcp://0.0.0.0:59353\u001b[0m (PULL_BIND) output \u001b[33mtcp://0.0.0.0:41895\u001b[0m (PUSH_CONNECT) control over \u001b[33mtcp://0.0.0.0:53857\u001b[0m (PAIR_BIND)\n",
      "           pod1@14515[I]:starting jina.peapods.runtimes.zmq.zed.ZEDRuntime...\n",
      "           pod1@14515[I]:input \u001b[33mtcp://0.0.0.0:41895\u001b[0m (PULL_BIND) output \u001b[33mtcp://0.0.0.0:34765\u001b[0m (PUSH_BIND) control over \u001b[33mtcp://0.0.0.0:57551\u001b[0m (PAIR_BIND)\n",
      "  SimpleEncoder@14508[I]:post_init may take some time...\n",
      "  SimpleEncoder@14508[I]:post_init may take some time takes 0 seconds (0.00s)\n",
      "        gateway@14526[I]:starting jina.peapods.runtimes.asyncio.grpc.GRPCRuntime...\n",
      "  SimpleEncoder@14508[S]:\u001b[32msuccessfully built SimpleEncoder from a yaml config\u001b[0m\n",
      "        gateway@14526[I]:input \u001b[33mtcp://0.0.0.0:34765\u001b[0m (PULL_CONNECT) output \u001b[33mtcp://0.0.0.0:59353\u001b[0m (PUSH_CONNECT) control over \u001b[33mipc:///tmp/tmphbkaah1v\u001b[0m (PAIR_BIND)\n",
      "           pod0@12297[S]:\u001b[32mready and listening\u001b[0m\n",
      "        gateway@14526[S]:\u001b[32mGRPCRuntime is listening at: 0.0.0.0:50529\u001b[0m\n",
      "EuclideanEvaluator@14515[I]:post_init may take some time...\n",
      "EuclideanEvaluator@14515[I]:post_init may take some time takes 0 seconds (0.00s)\n",
      "EuclideanEvaluator@14515[S]:\u001b[32msuccessfully built EuclideanEvaluator from a yaml config\u001b[0m\n",
      "           pod1@12297[S]:\u001b[32mready and listening\u001b[0m\n",
      "        gateway@12297[S]:\u001b[32mready and listening\u001b[0m\n",
      "           Flow@12297[I]:3 Pods (i.e. 3 Peas) are running in this Flow\n",
      "           Flow@12297[S]:\u001b[32m🎉 Flow is ready to use, accepting \u001b[1mgRPC request\u001b[0m\u001b[0m\n",
      "           Flow@12297[I]:\n",
      "\t🖥️ Local access:\t\u001b[4m\u001b[36mtcp://0.0.0.0:50529\u001b[0m\n",
      "\t🔒 Private network:\t\u001b[4m\u001b[36mtcp://192.168.0.161:50529\u001b[0m\n",
      "\t🌐 Public address:\t\u001b[4m\u001b[36mtcp://212.91.237.145:50529\u001b[0m\n",
      "         Client@12297[S]:\u001b[32mconnected to the gateway at 0.0.0.0:50529!\u001b[0m\n",
      "\u001b[36msearch\u001b[0m |\u001b[32m█\u001b[0m                   | 📃      0 ⏱️ 0.0s 🐎 0.0/s      0      batchsearch ...\t        gateway@14526[I]:prefetching 50 requests...\n",
      "        gateway@14526[W]:\u001b[40m\u001b[33mif this takes too long, you may want to take smaller \"--prefetch\" or ask client to reduce \"--request-size\"\u001b[0m\n",
      "           pod0@14508[I]:recv SearchRequest  from gateway\u001b[32m▸\u001b[0mpod0/ZEDRuntime\u001b[32m▸\u001b[0m⚐\n",
      "        gateway@14526[I]:prefetching 50 requests takes 0 seconds (0.00s)\n",
      "           pod0@14508[I]:#sent: 0 #recv: 1 sent_size: 0 Bytes recv_size: 418 Bytes\n",
      "           pod0@14508[I]:recv SearchRequest  from gateway\u001b[32m▸\u001b[0mpod0/ZEDRuntime\u001b[32m▸\u001b[0m⚐\n",
      "           pod1@14515[I]:recv SearchRequest  from gateway\u001b[32m▸\u001b[0mpod0/ZEDRuntime\u001b[32m▸\u001b[0mpod1/ZEDRuntime\u001b[32m▸\u001b[0m⚐\n",
      "           pod0@14508[I]:#sent: 1 #recv: 2 sent_size: 596 Bytes recv_size: 836 Bytes\n",
      "           pod1@14515[I]:#sent: 0 #recv: 1 sent_size: 0 Bytes recv_size: 527 Bytes\n",
      "           pod0@14508[I]:recv SearchRequest  from gateway\u001b[32m▸\u001b[0mpod0/ZEDRuntime\u001b[32m▸\u001b[0m⚐\n",
      "           pod0@14508[I]:#sent: 2 #recv: 3 sent_size: 1.2 KB recv_size: 1.2 KB\n",
      "           pod1@14515[I]:recv SearchRequest  from gateway\u001b[32m▸\u001b[0mpod0/ZEDRuntime\u001b[32m▸\u001b[0mpod1/ZEDRuntime\u001b[32m▸\u001b[0m⚐\n",
      "           JINA@12297[I]:Num of docs evaluated: 1\n",
      "\u001b[36msearch\u001b[0m |\u001b[32m█\u001b[0m                   | 📃      1 ⏱️ 0.0s 🐎 49.0/s      1      batch           pod1@14515[I]:#sent: 1 #recv: 2 sent_size: 748 Bytes recv_size: 1.0 KB\n",
      "           pod1@14515[I]:recv SearchRequest  from gateway\u001b[32m▸\u001b[0mpod0/ZEDRuntime\u001b[32m▸\u001b[0mpod1/ZEDRuntime\u001b[32m▸\u001b[0m⚐\n",
      "           JINA@12297[I]:Num of docs evaluated: 2\n",
      "\u001b[36msearch\u001b[0m |\u001b[32m██\u001b[0m                  | 📃      2 ⏱️ 0.0s 🐎 83.2/s      2      batch           pod1@14515[I]:#sent: 2 #recv: 3 sent_size: 1.5 KB recv_size: 1.5 KB\n",
      "           JINA@12297[I]:Num of docs evaluated: 3\n",
      "\u001b[36msearch\u001b[0m |\u001b[32m███\u001b[0m                 | 📃      3 ⏱️ 0.0s 🐎 97.8/s      3      batch\u001b[32m    0 seconds (0.03s)\u001b[0m\n",
      "        gateway@14526[I]:#sent: 3 #recv: 3 sent_size: 1.4 KB recv_size: 2.0 KB\n",
      "\t\u001b[32m✅ done in ⏱ 0 seconds 🐎 92.3/s\u001b[0m\n",
      "        gateway@12297[S]:\u001b[32mterminated\u001b[0m\n",
      "           pod1@14515[I]:recv ControlRequest  from ctl\u001b[32m▸\u001b[0mpod1/ZEDRuntime\u001b[32m▸\u001b[0m⚐\n",
      "           pod1@14515[I]:#sent: 4 #recv: 4 sent_size: 2.4 KB recv_size: 1.7 KB\n",
      "           pod1@14515[I]:no update since 2021-04-13 13:48:01, will not save. If you really want to save it, call \"touch()\" before \"save()\" to force saving\n",
      "           pod1@12297[S]:\u001b[32mterminated\u001b[0m\n",
      "           pod0@14508[I]:recv ControlRequest  from ctl\u001b[32m▸\u001b[0mpod0/ZEDRuntime\u001b[32m▸\u001b[0m⚐\n",
      "           pod0@14508[I]:#sent: 4 #recv: 4 sent_size: 2.0 KB recv_size: 1.4 KB\n",
      "           pod0@14508[I]:no update since 2021-04-13 13:48:01, will not save. If you really want to save it, call \"touch()\" before \"save()\" to force saving\n",
      "           pod0@12297[S]:\u001b[32mterminated\u001b[0m\n",
      "           Flow@12297[S]:\u001b[32mflow is closed and all resources are released, current build level is 0\u001b[0m\n",
      "           JINA@12297[I]:\u001b[32mEvaluation Score: 1.6666666666666667\u001b[0m\n"
     ]
    },
    {
     "name": "stderr",
     "output_type": "stream",
     "text": [
      "\u001b[32m[I 2021-04-13 13:48:02,963]\u001b[0m Trial 1 finished with value: 1.6666666666666667 and parameters: {'JINA_ENCODER_LAYER': 0}. Best is trial 0 with value: 1.0.\u001b[0m\n"
     ]
    },
    {
     "name": "stdout",
     "output_type": "stream",
     "text": [
      "           JINA@12297[W]:\u001b[40m\u001b[33m\u001b[31mExisting workspace deleted\u001b[0m\u001b[0m\n",
      "           JINA@12297[W]:\u001b[40m\u001b[33m\u001b[31mWORKSPACE: ./JINA_WORKSPACE_0\u001b[0m\u001b[0m\n",
      "           JINA@12297[W]:\u001b[40m\u001b[33m\u001b[31mchange overwrite_workspace to change this\u001b[0m\u001b[0m\n",
      "           pod0@14605[I]:starting jina.peapods.runtimes.zmq.zed.ZEDRuntime...\n",
      "           pod0@14605[I]:input \u001b[33mtcp://0.0.0.0:39955\u001b[0m (PULL_BIND) output \u001b[33mtcp://0.0.0.0:55407\u001b[0m (PUSH_CONNECT) control over \u001b[33mtcp://0.0.0.0:47689\u001b[0m (PAIR_BIND)\n",
      "           pod1@14612[I]:starting jina.peapods.runtimes.zmq.zed.ZEDRuntime...\n",
      "           pod1@14612[I]:input \u001b[33mtcp://0.0.0.0:55407\u001b[0m (PULL_BIND) output \u001b[33mtcp://0.0.0.0:36863\u001b[0m (PUSH_BIND) control over \u001b[33mtcp://0.0.0.0:53185\u001b[0m (PAIR_BIND)\n",
      "  SimpleEncoder@14605[I]:post_init may take some time...\n",
      "  SimpleEncoder@14605[I]:post_init may take some time takes 0 seconds (0.00s)\n",
      "  SimpleEncoder@14605[S]:\u001b[32msuccessfully built SimpleEncoder from a yaml config\u001b[0m\n",
      "EuclideanEvaluator@14612[I]:post_init may take some time...\n",
      "           pod0@12297[S]:\u001b[32mready and listening\u001b[0m\n",
      "EuclideanEvaluator@14612[I]:post_init may take some time takes 0 seconds (0.01s)\n",
      "        gateway@14627[I]:starting jina.peapods.runtimes.asyncio.grpc.GRPCRuntime...\n",
      "EuclideanEvaluator@14612[S]:\u001b[32msuccessfully built EuclideanEvaluator from a yaml config\u001b[0m\n",
      "        gateway@14627[I]:input \u001b[33mtcp://0.0.0.0:36863\u001b[0m (PULL_CONNECT) output \u001b[33mtcp://0.0.0.0:39955\u001b[0m (PUSH_CONNECT) control over \u001b[33mipc:///tmp/tmpczt987rn\u001b[0m (PAIR_BIND)\n",
      "           pod1@12297[S]:\u001b[32mready and listening\u001b[0m\n",
      "        gateway@14627[S]:\u001b[32mGRPCRuntime is listening at: 0.0.0.0:40289\u001b[0m\n",
      "        gateway@12297[S]:\u001b[32mready and listening\u001b[0m\n",
      "           Flow@12297[I]:3 Pods (i.e. 3 Peas) are running in this Flow\n",
      "           Flow@12297[S]:\u001b[32m🎉 Flow is ready to use, accepting \u001b[1mgRPC request\u001b[0m\u001b[0m\n",
      "           Flow@12297[I]:\n",
      "\t🖥️ Local access:\t\u001b[4m\u001b[36mtcp://0.0.0.0:40289\u001b[0m\n",
      "\t🔒 Private network:\t\u001b[4m\u001b[36mtcp://192.168.0.161:40289\u001b[0m\n",
      "\t🌐 Public address:\t\u001b[4m\u001b[36mtcp://212.91.237.145:40289\u001b[0m\n",
      "         Client@12297[S]:\u001b[32mconnected to the gateway at 0.0.0.0:40289!\u001b[0m\n",
      "\u001b[36msearch\u001b[0m |\u001b[32m█\u001b[0m                   | 📃      0 ⏱️ 0.0s 🐎 0.0/s      0      batchsearch ...\t        gateway@14627[I]:prefetching 50 requests...\n",
      "        gateway@14627[W]:\u001b[40m\u001b[33mif this takes too long, you may want to take smaller \"--prefetch\" or ask client to reduce \"--request-size\"\u001b[0m\n",
      "           pod0@14605[I]:recv SearchRequest  from gateway\u001b[32m▸\u001b[0mpod0/ZEDRuntime\u001b[32m▸\u001b[0m⚐\n",
      "        gateway@14627[I]:prefetching 50 requests takes 0 seconds (0.01s)\n",
      "           pod0@14605[I]:#sent: 0 #recv: 1 sent_size: 0 Bytes recv_size: 418 Bytes\n",
      "           pod0@14605[I]:recv SearchRequest  from gateway\u001b[32m▸\u001b[0mpod0/ZEDRuntime\u001b[32m▸\u001b[0m⚐\n",
      "           pod1@14612[I]:recv SearchRequest  from gateway\u001b[32m▸\u001b[0mpod0/ZEDRuntime\u001b[32m▸\u001b[0mpod1/ZEDRuntime\u001b[32m▸\u001b[0m⚐\n",
      "           pod0@14605[I]:#sent: 1 #recv: 2 sent_size: 596 Bytes recv_size: 836 Bytes\n",
      "           pod0@14605[I]:recv SearchRequest  from gateway\u001b[32m▸\u001b[0mpod0/ZEDRuntime\u001b[32m▸\u001b[0m⚐\n",
      "           pod1@14612[I]:#sent: 0 #recv: 1 sent_size: 0 Bytes recv_size: 527 Bytes\n",
      "           pod1@14612[I]:recv SearchRequest  from gateway\u001b[32m▸\u001b[0mpod0/ZEDRuntime\u001b[32m▸\u001b[0mpod1/ZEDRuntime\u001b[32m▸\u001b[0m⚐\n",
      "           pod0@14605[I]:#sent: 2 #recv: 3 sent_size: 1.2 KB recv_size: 1.2 KB\n",
      "           JINA@12297[I]:Num of docs evaluated: 1\n",
      "\u001b[36msearch\u001b[0m |\u001b[32m█\u001b[0m                   | 📃      1 ⏱️ 0.0s 🐎 31.6/s      1      batch           pod1@14612[I]:#sent: 1 #recv: 2 sent_size: 748 Bytes recv_size: 1.0 KB\n",
      "           pod1@14612[I]:recv SearchRequest  from gateway\u001b[32m▸\u001b[0mpod0/ZEDRuntime\u001b[32m▸\u001b[0mpod1/ZEDRuntime\u001b[32m▸\u001b[0m⚐\n",
      "           JINA@12297[I]:Num of docs evaluated: 2\n",
      "\u001b[36msearch\u001b[0m |\u001b[32m██\u001b[0m                  | 📃      2 ⏱️ 0.0s 🐎 57.7/s      2      batch           pod1@14612[I]:#sent: 2 #recv: 3 sent_size: 1.5 KB recv_size: 1.5 KB\n",
      "           JINA@12297[I]:Num of docs evaluated: 3\n",
      "\u001b[36msearch\u001b[0m |\u001b[32m███\u001b[0m                 | 📃      3 ⏱️ 0.0s 🐎 80.4/s      3      batch\u001b[32m    0 seconds (0.04s)\u001b[0m\n",
      "        gateway@14627[I]:#sent: 3 #recv: 3 sent_size: 1.4 KB recv_size: 2.0 KB\n",
      "\t\u001b[32m✅ done in ⏱ 0 seconds 🐎 77.3/s\u001b[0m\n",
      "        gateway@12297[S]:\u001b[32mterminated\u001b[0m\n",
      "           pod1@14612[I]:recv ControlRequest  from ctl\u001b[32m▸\u001b[0mpod1/ZEDRuntime\u001b[32m▸\u001b[0m⚐\n",
      "           pod1@14612[I]:#sent: 4 #recv: 4 sent_size: 2.4 KB recv_size: 1.7 KB\n",
      "           pod1@14612[I]:no update since 2021-04-13 13:48:03, will not save. If you really want to save it, call \"touch()\" before \"save()\" to force saving\n",
      "           pod1@12297[S]:\u001b[32mterminated\u001b[0m\n",
      "           pod0@14605[I]:recv ControlRequest  from ctl\u001b[32m▸\u001b[0mpod0/ZEDRuntime\u001b[32m▸\u001b[0m⚐\n",
      "           pod0@14605[I]:#sent: 4 #recv: 4 sent_size: 2.0 KB recv_size: 1.4 KB\n",
      "           pod0@14605[I]:no update since 2021-04-13 13:48:03, will not save. If you really want to save it, call \"touch()\" before \"save()\" to force saving\n",
      "           pod0@12297[S]:\u001b[32mterminated\u001b[0m\n",
      "           Flow@12297[S]:\u001b[32mflow is closed and all resources are released, current build level is 0\u001b[0m\n",
      "           JINA@12297[I]:\u001b[32mEvaluation Score: 1.6666666666666667\u001b[0m\n"
     ]
    },
    {
     "name": "stderr",
     "output_type": "stream",
     "text": [
      "\u001b[32m[I 2021-04-13 13:48:05,674]\u001b[0m Trial 2 finished with value: 1.6666666666666667 and parameters: {'JINA_ENCODER_LAYER': 0}. Best is trial 0 with value: 1.0.\u001b[0m\n"
     ]
    },
    {
     "name": "stdout",
     "output_type": "stream",
     "text": [
      "           JINA@12297[I]:\u001b[32mNumber of finished trials: 3\u001b[0m\n",
      "           JINA@12297[I]:\u001b[32mBest trial: {'JINA_ENCODER_LAYER': 1}\u001b[0m\n",
      "           JINA@12297[I]:\u001b[32mTime to finish: 0:00:02.263426\u001b[0m\n"
     ]
    },
    {
     "data": {
      "text/plain": [
       "<jina.optimizers.ResultProcessor at 0x7fc9e180ed50>"
      ]
     },
     "execution_count": 5,
     "metadata": {},
     "output_type": "execute_result"
    }
   ],
   "source": [
    "optimizer = FlowOptimizer(\n",
    "    flow_runner=runner,\n",
    "    parameter_yaml='parameter.yml',\n",
    "    evaluation_callback=MeanEvaluationCallback(),\n",
    "    n_trials=3,\n",
    "    direction='minimize',\n",
    "    seed=1\n",
    ")\n",
    "\n",
    "optimizer.optimize_flow()\n"
   ]
  },
  {
   "cell_type": "code",
   "execution_count": null,
   "id": "architectural-learning",
   "metadata": {},
   "outputs": [],
   "source": []
  }
 ],
 "metadata": {
  "kernelspec": {
   "display_name": "Python 3",
   "language": "python",
   "name": "python3"
  },
  "language_info": {
   "codemirror_mode": {
    "name": "ipython",
    "version": 3
   },
   "file_extension": ".py",
   "mimetype": "text/x-python",
   "name": "python",
   "nbconvert_exporter": "python",
   "pygments_lexer": "ipython3",
   "version": "3.7.10"
  }
 },
 "nbformat": 4,
 "nbformat_minor": 5
}
