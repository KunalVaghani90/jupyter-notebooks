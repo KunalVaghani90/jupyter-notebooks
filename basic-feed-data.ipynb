{
 "cells": [
  {
   "cell_type": "markdown",
   "metadata": {
    "pycharm": {
     "name": "#%% md\n"
    }
   },
   "source": [
    "## Feed Data\n",
    "\n",
    "To use a Flow, open it using the `with` context manager, like you would a file in Python. You can call `index` and `search` with nearly all types of data. The whole data stream is asynchronous and efficient.\n",
    "\n",
    "Let's index 10 empty Jina Document."
   ]
  },
  {
   "cell_type": "code",
   "execution_count": 7,
   "metadata": {},
   "outputs": [
    {
     "name": "stdout",
     "output_type": "stream",
     "text": [
      "Requirement already satisfied: jina in /Users/candice/miniconda3/lib/python3.9/site-packages (2.0.7)\n",
      "Requirement already satisfied: numpy in /Users/candice/miniconda3/lib/python3.9/site-packages (from jina) (1.19.5)\n",
      "Requirement already satisfied: grpcio>=1.33.1 in /Users/candice/miniconda3/lib/python3.9/site-packages (from jina) (1.34.1)\n",
      "Requirement already satisfied: pyyaml>=5.3.1 in /Users/candice/miniconda3/lib/python3.9/site-packages (from jina) (5.4.1)\n",
      "Requirement already satisfied: protobuf>=3.13.0 in /Users/candice/miniconda3/lib/python3.9/site-packages (from jina) (3.17.1)\n",
      "Requirement already satisfied: pyzmq>=17.1.0 in /Users/candice/miniconda3/lib/python3.9/site-packages (from jina) (22.1.0)\n",
      "Requirement already satisfied: tornado>=5.1.0 in /Users/candice/miniconda3/lib/python3.9/site-packages (from jina) (6.1)\n",
      "Requirement already satisfied: six>=1.5.2 in /Users/candice/miniconda3/lib/python3.9/site-packages (from grpcio>=1.33.1->jina) (1.15.0)\n",
      "Requirement already satisfied: six>=1.5.2 in /Users/candice/miniconda3/lib/python3.9/site-packages (from grpcio>=1.33.1->jina) (1.15.0)\n"
     ]
    }
   ],
   "source": [
    "#Run this command to install Jina in this notebook \n",
    "!pip install jina"
   ]
  },
  {
   "cell_type": "code",
   "execution_count": 8,
   "metadata": {
    "pycharm": {
     "name": "#%%\n"
    },
    "scrolled": true
   },
   "outputs": [
    {
     "name": "stdout",
     "output_type": "stream",
     "text": [
      "\u001B[32m           pod0@5659[L]:ready and listening\u001B[0m\n",
      "\u001B[32m        gateway@5659[L]:ready and listening\u001B[0m\n",
      "           Flow@5659[I]:🎉 Flow is ready to use!\n",
      "\t🔗 Protocol: \t\t\u001B[1mGRPC\u001B[0m\n",
      "\t🏠 Local access:\t\u001B[4m\u001B[36m0.0.0.0:56754\u001B[0m\n",
      "\t🔒 Private network:\t\u001B[4m\u001B[36m192.168.12.128:56754\u001B[0m\u001B[0m\n"
     ]
    }
   ],
   "source": [
    "from jina import Document, DocumentArray, Flow\n",
    "\n",
    "with Flow().add() as f:\n",
    "    f.index((Document() for _ in range(10)))"
   ]
  },
  {
   "cell_type": "markdown",
   "metadata": {
    "pycharm": {
     "name": "#%% md\n"
    }
   },
   "source": [
    "Let's index some random `ndarray`"
   ]
  },
  {
   "cell_type": "code",
   "execution_count": 9,
   "metadata": {
    "pycharm": {
     "name": "#%% \n"
    }
   },
   "outputs": [
    {
     "name": "stdout",
     "output_type": "stream",
     "text": [
      "\u001B[32m           pod0@5659[L]:ready and listening\u001B[0m\n",
      "\u001B[32m        gateway@5659[L]:ready and listening\u001B[0m\n",
      "           Flow@5659[I]:🎉 Flow is ready to use!\n",
      "\t🔗 Protocol: \t\t\u001B[1mGRPC\u001B[0m\n",
      "\t🏠 Local access:\t\u001B[4m\u001B[36m0.0.0.0:56772\u001B[0m\n",
      "\t🔒 Private network:\t\u001B[4m\u001B[36m192.168.12.128:56772\u001B[0m\u001B[0m\n",
      "{'request_id': '642c406c-2383-4bb1-b2b2-90ccc4a3bb0a', 'data': {'docs': [{'id': '39ac3f8a-e474-11eb-aa5d-acde48001122', 'blob': {'dense': {'buffer': 'CpGdf9vp0z/o3e0uM/WyPw==', 'shape': [2], 'dtype': '<f8'}}, 'content_hash': '8dd42140c7d24c30'}, {'id': '39ac5c4a-e474-11eb-aa5d-acde48001122', 'blob': {'dense': {'buffer': 'TlJaBejb7z8zso5WVr7iPw==', 'shape': [2], 'dtype': '<f8'}}, 'content_hash': '34f15c43b9e74190'}, {'id': '39ac617c-e474-11eb-aa5d-acde48001122', 'blob': {'dense': {'buffer': 'NHgkBPmA6j+wgZbDfaCuPw==', 'shape': [2], 'dtype': '<f8'}}, 'content_hash': '264358f0155b6f40'}, {'id': '39ac6514-e474-11eb-aa5d-acde48001122', 'blob': {'dense': {'buffer': '4A9Qx+9muj8kCG2zMwLQPw==', 'shape': [2], 'dtype': '<f8'}}, 'content_hash': '1a2fc4b806ce8f83'}]}, 'header': {'exec_endpoint': '/index'}, 'routes': [{'pod': 'gateway', 'pod_id': '629d1384-5a0c-4658-9a12-374d7170e08e', 'start_time': '2021-07-14T07:22:19.990468Z', 'end_time': '2021-07-14T07:22:19.994950Z'}, {'pod': 'pod0/ZEDRuntime', 'pod_id': '88f5aa98-7b53-440a-b599-58cf39caa6fd', 'start_time': '2021-07-14T07:22:19.992638Z', 'end_time': '2021-07-14T07:22:19.993222Z'}], 'status': {}}\n"
     ]
    }
   ],
   "source": [
    "import numpy\n",
    "from jina.types.document.generators import from_ndarray\n",
    "\n",
    "with f:\n",
    "    f.index(from_ndarray(numpy.random.random([4,2])), on_done=print)  # index ndarray data, document sliced on first dimension"
   ]
  },
  {
   "cell_type": "markdown",
   "metadata": {
    "pycharm": {
     "name": "#%% md\n"
    }
   },
   "source": [
    "Index some text data:"
   ]
  },
  {
   "cell_type": "code",
   "execution_count": 10,
   "metadata": {
    "pycharm": {
     "name": "#%%\n"
    }
   },
   "outputs": [
    {
     "name": "stdout",
     "output_type": "stream",
     "text": [
      "\u001B[32m           pod0@5659[L]:ready and listening\u001B[0m\n",
      "\u001B[32m        gateway@5659[L]:ready and listening\u001B[0m\n",
      "           Flow@5659[I]:🎉 Flow is ready to use!\n",
      "\t🔗 Protocol: \t\t\u001B[1mGRPC\u001B[0m\n",
      "\t🏠 Local access:\t\u001B[4m\u001B[36m0.0.0.0:56789\u001B[0m\n",
      "\t🔒 Private network:\t\u001B[4m\u001B[36m192.168.12.128:56789\u001B[0m\u001B[0m\n"
     ]
    }
   ],
   "source": [
    "with f:\n",
    "    f.index(DocumentArray([Document(text='hello world!'), Document(text='goodbye world!')]), on_done=print)  # index textual data, each element is a document"
   ]
  }
 ],
 "metadata": {
  "kernelspec": {
   "display_name": "Python 3",
   "language": "python",
   "name": "python3"
  },
  "language_info": {
   "codemirror_mode": {
    "name": "ipython",
    "version": 3
   },
   "file_extension": ".py",
   "mimetype": "text/x-python",
   "name": "python",
   "nbconvert_exporter": "python",
   "pygments_lexer": "ipython3",
   "version": "3.9.1"
  }
 },
 "nbformat": 4,
 "nbformat_minor": 4
}