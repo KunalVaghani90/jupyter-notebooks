{
 "cells": [
  {
   "cell_type": "markdown",
   "metadata": {
    "collapsed": true,
    "pycharm": {
     "name": "#%% md\n"
    }
   },
   "source": [
    "## CRUD Functions\n",
    "\n",
    "First we look at basic CRUD operations. In Jina, CRUD corresponds to four functions: `index` (create), `search` (read), `update`, and `delete`. With documents below as example:\n"
   ]
  },
  {
   "cell_type": "code",
   "execution_count": null,
   "outputs": [],
   "source": [
    "import numpy as np\n",
    "from jina import Document\n",
    "docs = [Document(id='🐲', embedding=np.array([0, 0]), tags={'guardian': 'Azure Dragon', 'position': 'East'}),\n",
    "        Document(id='🐦', embedding=np.array([1, 0]), tags={'guardian': 'Vermilion Bird', 'position': 'South'}),\n",
    "        Document(id='🐢', embedding=np.array([0, 1]), tags={'guardian': 'Black Tortoise', 'position': 'North'}),\n",
    "        Document(id='🐯', embedding=np.array([1, 1]), tags={'guardian': 'White Tiger', 'position': 'West'})]"
   ],
   "metadata": {
    "collapsed": false,
    "pycharm": {
     "name": "#%%\n"
    }
   }
  },
  {
   "cell_type": "markdown",
   "source": [
    "Let's build a simple Flow with a simple indexer."
   ],
   "metadata": {
    "collapsed": false,
    "pycharm": {
     "name": "#%% md\n"
    }
   }
  },
  {
   "cell_type": "code",
   "execution_count": null,
   "outputs": [],
   "source": [
    "from jina import Flow\n",
    "f = Flow().add(uses='_index')"
   ],
   "metadata": {
    "collapsed": false,
    "pycharm": {
     "name": "#%%\n"
    }
   }
  },
  {
   "cell_type": "markdown",
   "source": [
    "`Document` and `Flow` are important concepts in Jina, which will be explained later. `_index` is a built-in embedding + structured info database."
   ],
   "metadata": {
    "collapsed": false,
    "pycharm": {
     "name": "#%% md\n"
    }
   }
  },
  {
   "cell_type": "markdown",
   "source": [
    "### Indexing\n",
    "\n",
    "This will store four docs (both embedding and structured info) into Jina."
   ],
   "metadata": {
    "collapsed": false
   }
  },
  {
   "cell_type": "code",
   "execution_count": null,
   "outputs": [],
   "source": [
    "with f:\n",
    "    f.index(docs, on_done=print)"
   ],
   "metadata": {
    "collapsed": false,
    "pycharm": {
     "name": "#%%\n"
    }
   }
  },
  {
   "cell_type": "markdown",
   "source": [
    "### Indexing\n",
    "\n",
    "This will store four docs (both embedding and structured info) into Jina."
   ],
   "metadata": {
    "collapsed": false
   }
  },
  {
   "cell_type": "code",
   "execution_count": null,
   "outputs": [],
   "source": [
    "with f:\n",
    "    f.index(docs, on_done=print)"
   ],
   "metadata": {
    "collapsed": false,
    "pycharm": {
     "name": "#%%\n"
    }
   }
  },
  {
   "cell_type": "markdown",
   "source": [
    "### Searching\n",
    "\n",
    "This will print 🐲🐦🐢 Doc with score 0, 1, 1, respectively, as these three documents are nearest neighbout of the query document."
   ],
   "metadata": {
    "collapsed": false
   }
  },
  {
   "cell_type": "code",
   "execution_count": null,
   "outputs": [],
   "source": [
    "with f:\n",
    "    f.search(docs[0], top_k=3,\n",
    "             on_done=lambda x: [print(m.dict()) for m in x.docs[0].matches])"
   ],
   "metadata": {
    "collapsed": false,
    "pycharm": {
     "name": "#%%\n"
    }
   }
  },
  {
   "cell_type": "markdown",
   "source": [
    "```json\n",
    "{\"id\": \"🐲\", \"tags\": {\"guardian\": \"Azure Dragon\", \"position\": \"East\"}, \"embedding\": {\"dense\": {\"buffer\": \"AAAAAAAAAAAAAAAAAAAAAA==\", \"shape\": [2], \"dtype\": \"<i8\"}}, \"score\": {\"opName\": \"NumpyIndexer\", \"refId\": \"🐲\"}, \"adjacency\": 1}\n",
    "{\"id\": \"🐦\", \"tags\": {\"position\": \"South\", \"guardian\": \"Vermilion Bird\"}, \"embedding\": {\"dense\": {\"buffer\": \"AQAAAAAAAAAAAAAAAAAAAA==\", \"shape\": [2], \"dtype\": \"<i8\"}}, \"score\": {\"value\": 1.0, \"opName\": \"NumpyIndexer\", \"refId\": \"🐲\"}, \"adjacency\": 1}\n",
    "{\"id\": \"🐢\", \"tags\": {\"guardian\": \"Black Tortoise\", \"position\": \"North\"}, \"embedding\": {\"dense\": {\"buffer\": \"AAAAAAAAAAABAAAAAAAAAA==\", \"shape\": [2], \"dtype\": \"<i8\"}}, \"score\": {\"value\": 1.0, \"opName\": \"NumpyIndexer\", \"refId\": \"🐲\"}, \"adjacency\": 1}\n",
    "```"
   ],
   "metadata": {
    "collapsed": false
   }
  },
  {
   "cell_type": "markdown",
   "source": [
    "### Updating\n",
    "\n",
    "Update 🐲 embedding to `[1, 1]`"
   ],
   "metadata": {
    "collapsed": false
   }
  },
  {
   "cell_type": "code",
   "execution_count": null,
   "outputs": [],
   "source": [
    "docs[0].embedding = np.array([1, 1])\n",
    "with f:\n",
    "    f.update(docs[0])\n"
   ],
   "metadata": {
    "collapsed": false,
    "pycharm": {
     "name": "#%%\n"
    }
   }
  },
  {
   "cell_type": "markdown",
   "source": [
    "### Deleting\n",
    "\n",
    "Remove 🐦🐲 Documents"
   ],
   "metadata": {
    "collapsed": false
   }
  },
  {
   "cell_type": "code",
   "execution_count": null,
   "outputs": [],
   "source": [
    "with f:\n",
    "    f.delete(['🐦', '🐲'])"
   ],
   "metadata": {
    "collapsed": false,
    "pycharm": {
     "name": "#%%\n"
    }
   }
  }
 ],
 "metadata": {
  "kernelspec": {
   "display_name": "Python 3",
   "language": "python",
   "name": "python3"
  },
  "language_info": {
   "codemirror_mode": {
    "name": "ipython",
    "version": 2
   },
   "file_extension": ".py",
   "mimetype": "text/x-python",
   "name": "python",
   "nbconvert_exporter": "python",
   "pygments_lexer": "ipython2",
   "version": "2.7.6"
  }
 },
 "nbformat": 4,
 "nbformat_minor": 0
}