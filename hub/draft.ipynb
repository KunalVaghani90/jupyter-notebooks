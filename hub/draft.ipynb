{
  "nbformat": 4,
  "nbformat_minor": 0,
  "metadata": {
    "colab": {
      "name": "TryJinaHubExecutor",
      "provenance": [],
      "collapsed_sections": []
    },
    "kernelspec": {
      "name": "python3",
      "display_name": "Python 3"
    },
    "language_info": {
      "name": "python"
    }
  },
  "cells": [
    {
      "cell_type": "markdown",
      "source": [
        "**Install Jina**\n",
        "\n",
        "`pip install -U jina`\n",
        "\n",
        "For advanced install, see [our docs](https://docs.jina.ai/get-started/install/)."
      ],
      "metadata": {
        "id": "9m-jrgLbm0Rf"
      }
    },
    {
      "cell_type": "code",
      "execution_count": null,
      "metadata": {
        "id": "1s3hG0_pmt2b"
      },
      "outputs": [],
      "source": [
        "!pip install -U jina"
      ]
    },
    {
      "cell_type": "code",
      "source": [
        "from jina import Flow, Document, DocumentArray, Executor, requests"
      ],
      "metadata": {
        "id": "sKeQAWmgmvbd"
      },
      "execution_count": null,
      "outputs": []
    },
    {
      "cell_type": "code",
      "source": [
        "class MyExecutor(Executor):\n",
        "  @requests\n",
        "  def process(self, docs: DocumentArray, **kwargs):\n",
        "    for doc in docs:\n",
        "      doc.text = '(first hello, from MyExecutor)' + doc.text\n",
        "      return docs"
      ],
      "metadata": {
        "id": "xUtd5a7REWtu"
      },
      "execution_count": null,
      "outputs": []
    },
    {
      "cell_type": "code",
      "source": [
        "# Please replace the ExecutorName with the one you want to have a try\n",
        "f = Flow().add(uses=MyExecutor).add(uses='jinahub://Hello', install_requirements=True)\n"
      ],
      "metadata": {
        "id": "MOd6uwx-Eai1"
      },
      "execution_count": null,
      "outputs": []
    },
    {
      "cell_type": "code",
      "source": [
        "with f:\n",
        "  r = f.post('/', inputs=Document(text='world'), return_results=True)\n",
        "  print(r[0].data.docs[0].text)"
      ],
      "metadata": {
        "id": "SyyKvjH-Ea2H"
      },
      "execution_count": null,
      "outputs": []
    }
  ]
}