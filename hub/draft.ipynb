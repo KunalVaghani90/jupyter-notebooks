{
  "nbformat": 4,
  "nbformat_minor": 0,
  "metadata": {
    "colab": {
      "name": "TryJinaHubExecutor",
      "provenance": [],
      "collapsed_sections": []
    },
    "kernelspec": {
      "name": "python3",
      "display_name": "Python 3"
    },
    "language_info": {
      "name": "python"
    }
  },
  "cells": [
    {
      "cell_type": "markdown",
      "source": [
        "# 1. Install Jina\n"
      ],
      "metadata": {
        "id": "9m-jrgLbm0Rf"
      }
    },
    {
      "cell_type": "code",
      "execution_count": null,
      "metadata": {
        "id": "1s3hG0_pmt2b"
      },
      "outputs": [],
      "source": [
        "!pip install -U jina"
      ]
    },
    {
      "cell_type": "markdown",
      "source": [
        "# 2. Use sandbox\n",
        "Replace `Hello` to whatever Executor name you want to use.\n"
      ],
      "metadata": {
        "id": "9m-jrgLbm0R1"
      }
    },
    {
      "cell_type": "code",
      "source": [
        "from docarray import Document\n",
        "from jina import Flow\n",
        "\n",
        "f = Flow().add(uses='jinahub+sandbox://Hello')\n",
        "with f:\n",
        "  r = f.post('/', inputs=Document(text='world'), return_results=True)\n",
        "  print(r[0].text)"
      ],
      "metadata": {
        "id": "sKeQAWmgmvbd"
      },
      "execution_count": null,
      "outputs": []
    }
  ]
}
