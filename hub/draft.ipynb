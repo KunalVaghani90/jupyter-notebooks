{
  "nbformat": 4,
  "nbformat_minor": 0,
  "metadata": {
    "colab": {
      "name": "TryJinaHubExecutor",
      "provenance": [],
      "collapsed_sections": []
    },
    "kernelspec": {
      "name": "python3",
      "display_name": "Python 3"
    },
    "language_info": {
      "name": "python"
    }
  },
  "cells": [
    {
      "cell_type": "code",
      "source": [
        "#@title Fill in the Executor name\n",
        "\n",
        "executor_name = 'example'  #@param {type: \"string\"}"
      ],
      "metadata": {
        "id": "ZaGyvCEjG21d"
      },
      "execution_count": 2,
      "outputs": []
    },
    {
      "cell_type": "markdown",
      "source": [
        "# Sandbox\n",
        "\n",
        "Sandbox runs Executor on Jina Cloud for a temporary session. You can build a dummy Document and play with the Executor, check its output etc."
      ],
      "metadata": {
        "id": "9m-jrgLbm0R1"
      }
    },
    {
      "cell_type": "code",
      "execution_count": null,
      "metadata": {
        "id": "1s3hG0_pmt2b"
      },
      "outputs": [],
      "source": [
        "!pip install -U jina"
      ]
    },
    {
      "cell_type": "code",
      "source": [
        "from jina import Flow\n",
        "\n",
        "f = Flow().add(uses=f'jinahub+sandbox://{executor_name}')"
      ],
      "metadata": {
        "id": "8Zqiifw2INun"
      },
      "execution_count": null,
      "outputs": []
    },
    {
      "cell_type": "code",
      "source": [
        "from docarray import Document\n",
        "\n",
        "with f:\n",
        "  print(f.post('/', Document(text='world')))"
      ],
      "metadata": {
        "id": "sKeQAWmgmvbd"
      },
      "execution_count": null,
      "outputs": []
    }
  ]
}
