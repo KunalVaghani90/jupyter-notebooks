{
 "cells": [
  {
   "cell_type": "markdown",
   "metadata": {},
   "source": [
    "## CRUD Functions\n",
    "\n",
    "First we look at basic CRUD operations. In Jina, CRUD corresponds to four functions: `index` (create), `search` (read), `update`, and `delete`. With documents below as example:\n"
   ]
  },
  {
   "cell_type": "code",
   "execution_count": 1,
   "metadata": {
    "pycharm": {
     "name": "#%%\n"
    }
   },
   "outputs": [
    {
     "name": "stdout",
     "output_type": "stream",
     "text": [
      "Requirement already satisfied: jina in /Users/candice/miniconda3/lib/python3.9/site-packages (2.0.7)\n",
      "Requirement already satisfied: protobuf>=3.13.0 in /Users/candice/miniconda3/lib/python3.9/site-packages (from jina) (3.17.1)\n",
      "Requirement already satisfied: grpcio>=1.33.1 in /Users/candice/miniconda3/lib/python3.9/site-packages (from jina) (1.34.1)\n",
      "Requirement already satisfied: numpy in /Users/candice/miniconda3/lib/python3.9/site-packages (from jina) (1.19.5)\n",
      "Requirement already satisfied: pyyaml>=5.3.1 in /Users/candice/miniconda3/lib/python3.9/site-packages (from jina) (5.4.1)\n",
      "Requirement already satisfied: pyzmq>=17.1.0 in /Users/candice/miniconda3/lib/python3.9/site-packages (from jina) (22.1.0)\n",
      "Requirement already satisfied: tornado>=5.1.0 in /Users/candice/miniconda3/lib/python3.9/site-packages (from jina) (6.1)\n",
      "Requirement already satisfied: six>=1.5.2 in /Users/candice/miniconda3/lib/python3.9/site-packages (from grpcio>=1.33.1->jina) (1.15.0)\n",
      "Requirement already satisfied: six>=1.5.2 in /Users/candice/miniconda3/lib/python3.9/site-packages (from grpcio>=1.33.1->jina) (1.15.0)\n"
     ]
    }
   ],
   "source": [
    "#Run this command to install Jina in this notebook\n",
    "!pip install jina[hub]"
   ]
  },
  {
   "cell_type": "code",
   "execution_count": 2,
   "metadata": {
    "pycharm": {
     "name": "#%%\n"
    }
   },
   "outputs": [],
   "source": [
    "import numpy as np\n",
    "from jina import Document\n",
    "\n",
    "docs = [Document(id='🐲', embedding=np.array([0, 0]), tags={'guardian': 'Azure Dragon', 'position': 'East'}),\n",
    "        Document(id='🐦', embedding=np.array([1, 0]), tags={'guardian': 'Vermilion Bird', 'position': 'South'}),\n",
    "        Document(id='🐢', embedding=np.array([0, 1]), tags={'guardian': 'Black Tortoise', 'position': 'North'}),\n",
    "        Document(id='🐯', embedding=np.array([1, 1]), tags={'guardian': 'White Tiger', 'position': 'West'})]"
   ]
  },
  {
   "cell_type": "markdown",
   "metadata": {},
   "source": [
    "Let's build a simple Flow with a simple indexer."
   ]
  },
  {
   "cell_type": "code",
   "execution_count": 3,
   "metadata": {
    "pycharm": {
     "name": "#%%\n"
    }
   },
   "outputs": [],
   "source": [
    "from jina import Flow\n",
    "f = Flow().add(uses='jinahub+docker://NumpyPostgresSearcher')"
   ]
  },
  {
   "cell_type": "markdown",
   "metadata": {},
   "source": [
    "`Document` and `Flow` are important concepts in Jina, which will be explained later. [NumpyPostgresSearcher](https://github.com/jina-ai/executor-indexers/tree/main/jinahub/indexers/searcher/compound/NumpyPostgresSearcher) is a built-in [compound vector-based searcher](https://github.com/jina-ai/executor-indexers#jina-indexers) that stores embedding and structured info for similarity search."
   ]
  },
  {
   "cell_type": "markdown",
   "metadata": {},
   "source": [
    "\n",
    "### Indexing\n",
    "\n",
    "This will store four docs (both embedding and structured info) into Jina."
   ]
  },
  {
   "cell_type": "code",
   "execution_count": 4,
   "metadata": {
    "pycharm": {
     "name": "#%%\n"
    }
   },
   "outputs": [
    {
     "name": "stderr",
     "output_type": "stream",
     "text": [
      "/Users/candice/miniconda3/lib/python3.9/site-packages/rich/live.py:227: UserWarning: install \"ipywidgets\" for Jupyter support\n",
      "  warnings.warn('install \"ipywidgets\" for Jupyter support')\n"
     ]
    },
    {
     "data": {
      "text/html": [
       "<pre style=\"white-space:pre;overflow-x:auto;line-height:normal;font-family:Menlo,'DejaVu Sans Mono',consolas,'Courier New',monospace\"></pre>\n"
      ],
      "text/plain": []
     },
     "metadata": {},
     "output_type": "display_data"
    },
    {
     "name": "stdout",
     "output_type": "stream",
     "text": [
      "           pod0@7645[I]:usage: jina [-h] [-v] [-vf]\u001B[0m\n",
      "           pod0@7645[I]:{hello, executor, pod, flow ... 6 more choices} ...\u001B[0m\n",
      "           pod0@7645[I]:jina: error: unrecognized arguments: --runs-in-docker\u001B[0m\n",
      "\u001B[31m           pod0@7645[E]:Exception('the container fails to start, check the arguments or entrypoint') during <class 'jina.peapods.runtimes.container.ContainerRuntime'> initialization\n",
      " add \"--quiet-error\" to suppress the exception details\u001B[0m\n",
      "Traceback (most recent call last):\n",
      "  File \"/Users/candice/miniconda3/lib/python3.9/site-packages/jina/peapods/peas/__init__.py\", line 78, in run\n",
      "    runtime = runtime_cls(\n",
      "  File \"/Users/candice/miniconda3/lib/python3.9/site-packages/jina/peapods/runtimes/container/__init__.py\", line 30, in __init__\n",
      "    raise Exception(\n",
      "Exception: the container fails to start, check the arguments or entrypoint\n",
      "\u001B[31m           Flow@7634[E]:pod0:<jina.peapods.pods.Pod object at 0x7f896d868c70> can not be started due to RuntimeFailToStart(), Flow is aborted\u001B[0m\n"
     ]
    },
    {
     "ename": "RuntimeFailToStart",
     "evalue": "",
     "output_type": "error",
     "traceback": [
      "\u001B[0;31m---------------------------------------------------------------------------\u001B[0m",
      "\u001B[0;31mRuntimeFailToStart\u001B[0m                        Traceback (most recent call last)",
      "\u001B[0;32m<ipython-input-4-da6a13d721fd>\u001B[0m in \u001B[0;36m<module>\u001B[0;34m\u001B[0m\n\u001B[0;32m----> 1\u001B[0;31m \u001B[0;32mwith\u001B[0m \u001B[0mf\u001B[0m\u001B[0;34m:\u001B[0m\u001B[0;34m\u001B[0m\u001B[0;34m\u001B[0m\u001B[0m\n\u001B[0m\u001B[1;32m      2\u001B[0m     \u001B[0mf\u001B[0m\u001B[0;34m.\u001B[0m\u001B[0mindex\u001B[0m\u001B[0;34m(\u001B[0m\u001B[0mdocs\u001B[0m\u001B[0;34m,\u001B[0m \u001B[0mon_done\u001B[0m\u001B[0;34m=\u001B[0m\u001B[0mprint\u001B[0m\u001B[0;34m)\u001B[0m\u001B[0;34m\u001B[0m\u001B[0;34m\u001B[0m\u001B[0m\n",
      "\u001B[0;32m~/miniconda3/lib/python3.9/site-packages/jina/flow/base.py\u001B[0m in \u001B[0;36m__enter__\u001B[0;34m(self)\u001B[0m\n\u001B[1;32m    915\u001B[0m     \u001B[0;32mdef\u001B[0m \u001B[0m__enter__\u001B[0m\u001B[0;34m(\u001B[0m\u001B[0mself\u001B[0m\u001B[0;34m)\u001B[0m\u001B[0;34m:\u001B[0m\u001B[0;34m\u001B[0m\u001B[0;34m\u001B[0m\u001B[0m\n\u001B[1;32m    916\u001B[0m         \u001B[0;32mwith\u001B[0m \u001B[0mCatchAllCleanupContextManager\u001B[0m\u001B[0;34m(\u001B[0m\u001B[0mself\u001B[0m\u001B[0;34m)\u001B[0m\u001B[0;34m:\u001B[0m\u001B[0;34m\u001B[0m\u001B[0;34m\u001B[0m\u001B[0m\n\u001B[0;32m--> 917\u001B[0;31m             \u001B[0;32mreturn\u001B[0m \u001B[0mself\u001B[0m\u001B[0;34m.\u001B[0m\u001B[0mstart\u001B[0m\u001B[0;34m(\u001B[0m\u001B[0;34m)\u001B[0m\u001B[0;34m\u001B[0m\u001B[0;34m\u001B[0m\u001B[0m\n\u001B[0m\u001B[1;32m    918\u001B[0m \u001B[0;34m\u001B[0m\u001B[0m\n\u001B[1;32m    919\u001B[0m     \u001B[0;32mdef\u001B[0m \u001B[0m__exit__\u001B[0m\u001B[0;34m(\u001B[0m\u001B[0mself\u001B[0m\u001B[0;34m,\u001B[0m \u001B[0mexc_type\u001B[0m\u001B[0;34m,\u001B[0m \u001B[0mexc_val\u001B[0m\u001B[0;34m,\u001B[0m \u001B[0mexc_tb\u001B[0m\u001B[0;34m)\u001B[0m\u001B[0;34m:\u001B[0m\u001B[0;34m\u001B[0m\u001B[0;34m\u001B[0m\u001B[0m\n",
      "\u001B[0;32m~/miniconda3/lib/python3.9/site-packages/jina/flow/base.py\u001B[0m in \u001B[0;36mstart\u001B[0;34m(self)\u001B[0m\n\u001B[1;32m    960\u001B[0m             \u001B[0;32mtry\u001B[0m\u001B[0;34m:\u001B[0m\u001B[0;34m\u001B[0m\u001B[0;34m\u001B[0m\u001B[0m\n\u001B[1;32m    961\u001B[0m                 \u001B[0;32mif\u001B[0m \u001B[0;32mnot\u001B[0m \u001B[0mgetattr\u001B[0m\u001B[0;34m(\u001B[0m\u001B[0mv\u001B[0m\u001B[0;34m.\u001B[0m\u001B[0margs\u001B[0m\u001B[0;34m,\u001B[0m \u001B[0;34m'external'\u001B[0m\u001B[0;34m,\u001B[0m \u001B[0;32mFalse\u001B[0m\u001B[0;34m)\u001B[0m\u001B[0;34m:\u001B[0m\u001B[0;34m\u001B[0m\u001B[0;34m\u001B[0m\u001B[0m\n\u001B[0;32m--> 962\u001B[0;31m                     \u001B[0mv\u001B[0m\u001B[0;34m.\u001B[0m\u001B[0mwait_start_success\u001B[0m\u001B[0;34m(\u001B[0m\u001B[0;34m)\u001B[0m\u001B[0;34m\u001B[0m\u001B[0;34m\u001B[0m\u001B[0m\n\u001B[0m\u001B[1;32m    963\u001B[0m             \u001B[0;32mexcept\u001B[0m \u001B[0mException\u001B[0m \u001B[0;32mas\u001B[0m \u001B[0mex\u001B[0m\u001B[0;34m:\u001B[0m\u001B[0;34m\u001B[0m\u001B[0;34m\u001B[0m\u001B[0m\n\u001B[1;32m    964\u001B[0m                 self.logger.error(\n",
      "\u001B[0;32m~/miniconda3/lib/python3.9/site-packages/jina/peapods/pods/__init__.py\u001B[0m in \u001B[0;36mwait_start_success\u001B[0;34m(self)\u001B[0m\n\u001B[1;32m    501\u001B[0m         \u001B[0;32mtry\u001B[0m\u001B[0;34m:\u001B[0m\u001B[0;34m\u001B[0m\u001B[0;34m\u001B[0m\u001B[0m\n\u001B[1;32m    502\u001B[0m             \u001B[0;32mfor\u001B[0m \u001B[0mp\u001B[0m \u001B[0;32min\u001B[0m \u001B[0mself\u001B[0m\u001B[0;34m.\u001B[0m\u001B[0mpeas\u001B[0m\u001B[0;34m:\u001B[0m\u001B[0;34m\u001B[0m\u001B[0;34m\u001B[0m\u001B[0m\n\u001B[0;32m--> 503\u001B[0;31m                 \u001B[0mp\u001B[0m\u001B[0;34m.\u001B[0m\u001B[0mwait_start_success\u001B[0m\u001B[0;34m(\u001B[0m\u001B[0;34m)\u001B[0m\u001B[0;34m\u001B[0m\u001B[0;34m\u001B[0m\u001B[0m\n\u001B[0m\u001B[1;32m    504\u001B[0m             \u001B[0mself\u001B[0m\u001B[0;34m.\u001B[0m\u001B[0m_activate\u001B[0m\u001B[0;34m(\u001B[0m\u001B[0;34m)\u001B[0m\u001B[0;34m\u001B[0m\u001B[0;34m\u001B[0m\u001B[0m\n\u001B[1;32m    505\u001B[0m         \u001B[0;32mexcept\u001B[0m\u001B[0;34m:\u001B[0m\u001B[0;34m\u001B[0m\u001B[0;34m\u001B[0m\u001B[0m\n",
      "\u001B[0;32m~/miniconda3/lib/python3.9/site-packages/jina/peapods/peas/__init__.py\u001B[0m in \u001B[0;36mwait_start_success\u001B[0;34m(self)\u001B[0m\n\u001B[1;32m    274\u001B[0m                 \u001B[0;31m# return too early and the shutdown is set, means something fails!!\u001B[0m\u001B[0;34m\u001B[0m\u001B[0;34m\u001B[0m\u001B[0;34m\u001B[0m\u001B[0m\n\u001B[1;32m    275\u001B[0m                 \u001B[0;32mif\u001B[0m \u001B[0;32mnot\u001B[0m \u001B[0mself\u001B[0m\u001B[0;34m.\u001B[0m\u001B[0mis_started\u001B[0m\u001B[0;34m.\u001B[0m\u001B[0mis_set\u001B[0m\u001B[0;34m(\u001B[0m\u001B[0;34m)\u001B[0m\u001B[0;34m:\u001B[0m\u001B[0;34m\u001B[0m\u001B[0;34m\u001B[0m\u001B[0m\n\u001B[0;32m--> 276\u001B[0;31m                     \u001B[0;32mraise\u001B[0m \u001B[0mRuntimeFailToStart\u001B[0m\u001B[0;34m\u001B[0m\u001B[0;34m\u001B[0m\u001B[0m\n\u001B[0m\u001B[1;32m    277\u001B[0m                 \u001B[0;32melse\u001B[0m\u001B[0;34m:\u001B[0m\u001B[0;34m\u001B[0m\u001B[0;34m\u001B[0m\u001B[0m\n\u001B[1;32m    278\u001B[0m                     \u001B[0;32mraise\u001B[0m \u001B[0mRuntimeRunForeverEarlyError\u001B[0m\u001B[0;34m\u001B[0m\u001B[0;34m\u001B[0m\u001B[0m\n",
      "\u001B[0;31mRuntimeFailToStart\u001B[0m: "
     ]
    }
   ],
   "source": [
    "with f:\n",
    "    f.index(docs, on_done=print)"
   ]
  },
  {
   "cell_type": "markdown",
   "metadata": {},
   "source": [
    "### Searching\n",
    "\n",
    "This will print 🐲🐦🐢 Doc with score 0, 1, 1, respectively, as these three documents are nearest neighbout of the query document."
   ]
  },
  {
   "cell_type": "code",
   "execution_count": null,
   "metadata": {
    "pycharm": {
     "name": "#%%\n"
    }
   },
   "outputs": [],
   "source": [
    "with f:\n",
    "    f.search(docs[0], top_k=3,\n",
    "             on_done=lambda x: [print(m.dict()) for m in x.docs[0].matches])"
   ]
  },
  {
   "cell_type": "markdown",
   "metadata": {},
   "source": [
    "### Updating\n",
    "\n",
    "Update 🐲 embedding to `[1, 1]`"
   ]
  },
  {
   "cell_type": "code",
   "execution_count": null,
   "metadata": {
    "pycharm": {
     "name": "#%%\n"
    }
   },
   "outputs": [],
   "source": [
    "docs[0].embedding = np.array([1, 1])\n",
    "with f:\n",
    "    f.update(docs[0])\n"
   ]
  },
  {
   "cell_type": "markdown",
   "metadata": {},
   "source": [
    "### Deleting\n",
    "\n",
    "Remove 🐦🐲 Documents"
   ]
  },
  {
   "cell_type": "code",
   "execution_count": null,
   "metadata": {
    "pycharm": {
     "name": "#%%\n"
    }
   },
   "outputs": [],
   "source": [
    "with f:\n",
    "    f.delete(['🐦', '🐲'])"
   ]
  }
 ],
 "metadata": {
  "kernelspec": {
   "display_name": "Python 3",
   "language": "python",
   "name": "python3"
  },
  "language_info": {
   "codemirror_mode": {
    "name": "ipython",
    "version": 3
   },
   "file_extension": ".py",
   "mimetype": "text/x-python",
   "name": "python",
   "nbconvert_exporter": "python",
   "pygments_lexer": "ipython3",
   "version": "3.9.1"
  }
 },
 "nbformat": 4,
 "nbformat_minor": 4
}